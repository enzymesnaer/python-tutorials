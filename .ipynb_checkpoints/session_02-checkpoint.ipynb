{
 "cells": [
  {
   "cell_type": "code",
   "execution_count": 2,
   "metadata": {},
   "outputs": [
    {
     "name": "stdout",
     "output_type": "stream",
     "text": [
      "23 23.45 (23+45j)\n"
     ]
    }
   ],
   "source": [
    "#number system\n",
    "#create\n",
    "a=23\n",
    "b=23.45\n",
    "c=23 + 45\n",
    "c =23+45j\n",
    "#read\n",
    "print(a,b,c)\n",
    "\n",
    "#update\n",
    "#is not possoblr we cant update no...\n",
    "#numbers are immutable\n",
    "#immutable methods will definitely return output\n",
    "# immutable means we cant update data"
   ]
  },
  {
   "cell_type": "code",
   "execution_count": 4,
   "metadata": {},
   "outputs": [
    {
     "ename": "NameError",
     "evalue": "name 'a' is not defined",
     "output_type": "error",
     "traceback": [
      "\u001b[0;31m---------------------------------------------------------------------------\u001b[0m",
      "\u001b[0;31mNameError\u001b[0m                                 Traceback (most recent call last)",
      "\u001b[0;32m<ipython-input-4-68ef45e664c3>\u001b[0m in \u001b[0;36m<module>\u001b[0;34m\u001b[0m\n\u001b[1;32m      1\u001b[0m \u001b[0;31m#delete\u001b[0m\u001b[0;34m\u001b[0m\u001b[0;34m\u001b[0m\u001b[0;34m\u001b[0m\u001b[0m\n\u001b[0;32m----> 2\u001b[0;31m \u001b[0;32mdel\u001b[0m \u001b[0ma\u001b[0m\u001b[0;34m,\u001b[0m\u001b[0mb\u001b[0m\u001b[0;34m,\u001b[0m\u001b[0mc\u001b[0m\u001b[0;34m\u001b[0m\u001b[0;34m\u001b[0m\u001b[0m\n\u001b[0m\u001b[1;32m      3\u001b[0m \u001b[0mprint\u001b[0m\u001b[0;34m(\u001b[0m\u001b[0ma\u001b[0m\u001b[0;34m,\u001b[0m\u001b[0mb\u001b[0m\u001b[0;34m,\u001b[0m\u001b[0mc\u001b[0m\u001b[0;34m)\u001b[0m\u001b[0;34m\u001b[0m\u001b[0;34m\u001b[0m\u001b[0m\n\u001b[1;32m      4\u001b[0m \u001b[0;34m\u001b[0m\u001b[0m\n\u001b[1;32m      5\u001b[0m \u001b[0;31m#will throw error for deleted values\u001b[0m\u001b[0;34m\u001b[0m\u001b[0;34m\u001b[0m\u001b[0;34m\u001b[0m\u001b[0m\n",
      "\u001b[0;31mNameError\u001b[0m: name 'a' is not defined"
     ]
    }
   ],
   "source": [
    "#delete\n",
    "del a,b,c\n",
    "print(a,b,c)\n",
    "\n",
    "#will throw error for deleted values"
   ]
  },
  {
   "cell_type": "code",
   "execution_count": 6,
   "metadata": {},
   "outputs": [
    {
     "name": "stdout",
     "output_type": "stream",
     "text": [
      "23.3445\n",
      "23\n",
      "23.3445\n",
      "-23\n",
      "25\n",
      "24.5\n"
     ]
    }
   ],
   "source": [
    "# absolute # min # max #threshhold #round\n",
    "\n",
    "a=23.3445\n",
    "b= -23\n",
    "\n",
    "print(abs(a))\n",
    "print(abs(b))\n",
    "\n",
    "print(max(a,b))\n",
    "print(min(a,b))\n",
    "\n",
    "a=24.87\n",
    "b=24.49\n",
    "print(round(a))\n",
    "print(round(b,1))"
   ]
  },
  {
   "cell_type": "code",
   "execution_count": 13,
   "metadata": {},
   "outputs": [
    {
     "name": "stdout",
     "output_type": "stream",
     "text": [
      "24\n",
      "-23\n",
      "23\n",
      "-24\n",
      "(0.4499999999999993, 23.0)\n",
      "(-0.5599999999999987, -23.0)\n"
     ]
    },
    {
     "data": {
      "text/plain": [
       "-23"
      ]
     },
     "execution_count": 13,
     "metadata": {},
     "output_type": "execute_result"
    }
   ],
   "source": [
    "#maths package\n",
    "import math as m\n",
    "\n",
    "a=23\n",
    "b=23.45\n",
    "c= -23.56\n",
    "d=55\n",
    "\n",
    "# methods for math packages\n",
    "print(m.ceil(b))\n",
    "print(m.ceil(c))\n",
    "print(m.floor(b))\n",
    "print(m.floor(c))\n",
    "print(m.modf(b)) # modf() returns the fractional and integer parts of x in a two-item tuple.\n",
    "print(m.modf(c))\n",
    "m.trunc(c)"
   ]
  },
  {
   "cell_type": "code",
   "execution_count": 16,
   "metadata": {},
   "outputs": [],
   "source": [
    "# Trignometric functions in math package\n",
    "# https://www.programiz.com/python-programming/modules/math"
   ]
  },
  {
   "cell_type": "code",
   "execution_count": 18,
   "metadata": {},
   "outputs": [],
   "source": [
    "# Random Package\n",
    "\n",
    "# random()\n",
    "# randrange()\n",
    "# uniform()\n",
    "# shuffle()\n",
    "# choice()\n",
    "# seed()       -->Note: -- used in Networks "
   ]
  },
  {
   "cell_type": "code",
   "execution_count": 20,
   "metadata": {},
   "outputs": [
    {
     "name": "stdout",
     "output_type": "stream",
     "text": [
      "0.22758605224769235\n",
      "21.323518940387302\n"
     ]
    }
   ],
   "source": [
    "import random as r\n",
    "print(r.random()) # --> random Float between 0 and 1\n",
    "print(r.uniform(10,30)) # for 10 to 30 float is default u round it for int"
   ]
  },
  {
   "cell_type": "code",
   "execution_count": 60,
   "metadata": {},
   "outputs": [
    {
     "name": "stdout",
     "output_type": "stream",
     "text": [
      "3914\n",
      "247\n",
      "93\n"
     ]
    }
   ],
   "source": [
    "a= r.uniform(1000,9999)\n",
    "print(round(a))\n",
    "print(r.randrange(100,500))\n",
    "print(r.randrange(1,100,2)) #start,stop,step"
   ]
  },
  {
   "cell_type": "code",
   "execution_count": 62,
   "metadata": {},
   "outputs": [
    {
     "name": "stdout",
     "output_type": "stream",
     "text": [
      "[1, 2, 3, 4, 5, 6, 7, 8, 9, 10, 11, 12, 13, 14, 15, 16, 17, 18, 19, 20, 21, 22, 23, 24, 25, 26, 27, 28, 29, 30, 31, 32, 33, 34, 35, 36, 37, 38, 39, 40, 41, 42, 43, 44, 45, 46, 47, 48, 49, 50, 51, 52, 53, 54, 55, 56, 57, 58, 59, 60, 61, 62, 63, 64, 65, 66, 67, 68, 69, 70, 71, 72, 73, 74, 75, 76, 77, 78, 79, 80, 81, 82, 83, 84, 85, 86, 87, 88, 89, 90, 91, 92, 93, 94, 95, 96, 97, 98, 99]\n"
     ]
    }
   ],
   "source": [
    "print(list(range(1,100)))"
   ]
  },
  {
   "cell_type": "code",
   "execution_count": 64,
   "metadata": {},
   "outputs": [
    {
     "name": "stdout",
     "output_type": "stream",
     "text": [
      "x$9fph\n"
     ]
    }
   ],
   "source": [
    "### IMP CODE GENERATON ###\n",
    "refer_code = \"abcdefghijklmnopqrstuvwxyz~!@#$%^&*()_0123456789\"\n",
    "refer = \"\"\n",
    "for i in range(6):\n",
    "    refer += r.choice(refer_code)\n",
    "print(refer)"
   ]
  },
  {
   "cell_type": "code",
   "execution_count": 70,
   "metadata": {},
   "outputs": [
    {
     "name": "stdout",
     "output_type": "stream",
     "text": [
      "[1, 2, 3, 4, 5, 6, 7, 8, 9, 10, 11, 12, 13, 14, 15, 16, 17, 18, 19, 20, 21, 22, 23, 24, 25, 26, 27, 28, 29, 30, 31, 32, 33, 34, 35, 36, 37, 38, 39, 40, 41, 42, 43, 44, 45, 46, 47, 48, 49, 50, 51, 52]\n",
      "None\n",
      "[32, 25, 38, 52, 16, 49, 47, 15, 28, 27, 26, 6, 30, 22, 12, 33, 21, 9, 39, 50, 44, 34, 43, 5, 10, 13, 23, 4, 7, 2, 35, 46, 3, 36, 37, 14, 40, 19, 11, 20, 31, 42, 41, 18, 51, 17, 1, 48, 24, 45, 29, 8]\n"
     ]
    }
   ],
   "source": [
    "# shuffle Function\n",
    "card = list(range(1,53))\n",
    "print(card)\n",
    "############\n",
    "print(r.shuffle(card))\n",
    "############\n",
    "r.shuffle(card) # actual card got changed returns none on direct print (..list)\n",
    "print(card)"
   ]
  },
  {
   "cell_type": "code",
   "execution_count": 76,
   "metadata": {},
   "outputs": [
    {
     "name": "stdout",
     "output_type": "stream",
     "text": [
      "0.5811521325045647\n"
     ]
    }
   ],
   "source": [
    "# SEED Function\n",
    "# Seed FUnction Reproduce Some Random No Every Time\n",
    "# Seed Function USES HASH VALUE to generate a Random No \n",
    "r.seed(101)      \n",
    "print(r.random())"
   ]
  },
  {
   "cell_type": "code",
   "execution_count": 78,
   "metadata": {},
   "outputs": [],
   "source": [
    "# [ Lottery System Assignment]\n",
    "# Enter Name --> Snehar\n",
    "# seed(\"Snehar\")\n",
    "# r.randrange (10000,50000)\n",
    "\n",
    "#10 20 --> 1 Cr\n",
    "#20 30 --> 50 lac\n",
    "#30 40 --> 20 Lac\n",
    "#40 50 --> 100 Rs"
   ]
  },
  {
   "cell_type": "code",
   "execution_count": 81,
   "metadata": {},
   "outputs": [
    {
     "name": "stdout",
     "output_type": "stream",
     "text": [
      "Enter Your Name: Snehar\n",
      "Snehar\n",
      "You Won 50 Lac. \n"
     ]
    }
   ],
   "source": [
    "name= input(\"Enter Your Name: \")\n",
    "r.seed(name)\n",
    "print(name)\n",
    "price=r.randrange (10000,50000)\n",
    "if( price in range(10000,20000)):\n",
    "    print(\"You Won 1 Cr. \")\n",
    "\n",
    "if( price in range(20001,30000)):\n",
    "    print(\"You Won 50 Lac. \")\n",
    "\n",
    "if( price in range(30001,40000)):\n",
    "    print(\"You Won 20 Lac.\")\n",
    "\n",
    "if( price in range(40001,50000)):\n",
    "    print(\"You Won Hundred Rupees.\")\n"
   ]
  },
  {
   "cell_type": "code",
   "execution_count": 83,
   "metadata": {},
   "outputs": [],
   "source": [
    "# string\n",
    "# crud operation\n",
    "# function\n",
    "# methods"
   ]
  },
  {
   "cell_type": "code",
   "execution_count": 87,
   "metadata": {},
   "outputs": [],
   "source": [
    "# Create \n",
    "# Index      0    1     2     3     4     5     6     7     8     9     10\n",
    "# String    h     e      l      l     o      _     w    o      r      l       d\n",
    "# Index  -11  -10  -9   -8    -7     -6    -5   -4    -3    -2     -1"
   ]
  },
  {
   "cell_type": "code",
   "execution_count": 88,
   "metadata": {},
   "outputs": [
    {
     "name": "stdout",
     "output_type": "stream",
     "text": [
      "hello world\n",
      "o\n",
      "o w\n",
      "lo world\n",
      "hello w\n",
      "hello world\n",
      "hlowrd\n",
      "llo wor\n",
      "ello wor\n",
      "ello wor\n",
      "ello world\n",
      "hello worl\n",
      "dlrow olleh\n",
      "\n"
     ]
    }
   ],
   "source": [
    "a = \"hello world\"\n",
    "print(a)\n",
    "\n",
    "print(a[4])\n",
    "print(a[4:7])\n",
    "print(a[3:])\n",
    "print(a[:7])\n",
    "print(a[:])\n",
    "print(a[::2])\n",
    "\n",
    "print(a[2:-2])\n",
    "print(a[-10:9])\n",
    "print(a[-10:-2])\n",
    "print(a[-10:])\n",
    "print(a[:-1])\n",
    "print(a[::-1])\n",
    "print(a[-2:-10])"
   ]
  },
  {
   "cell_type": "code",
   "execution_count": 91,
   "metadata": {},
   "outputs": [
    {
     "name": "stdout",
     "output_type": "stream",
     "text": [
      "dlrow oll\n",
      "el ol\n",
      "el ol\n"
     ]
    }
   ],
   "source": [
    "# Index      0    1     2     3     4     5     6     7     8     9     10\n",
    "# String    h     e      l      l     o      _     w    o      r      l       d\n",
    "# Index  -11  -10  -9   -8    -7     -6    -5   -4    -3    -2     -1\n",
    "\n",
    "print(a[10:-10:-1])\n",
    "print(a[1:10:2])\n",
    "print(a[-10:-1:2])"
   ]
  },
  {
   "cell_type": "code",
   "execution_count": 93,
   "metadata": {},
   "outputs": [
    {
     "name": "stdout",
     "output_type": "stream",
     "text": [
      "dlrow olleh\n",
      "drwolh\n",
      "o\n",
      "hlowrd\n",
      "h\n"
     ]
    }
   ],
   "source": [
    "# Index      0    1     2     3     4     5     6     7     8     9     10\n",
    "# String    h     e      l      l     o      _     w    o      r      l       d\n",
    "# Index  -11  -10  -9   -8    -7     -6    -5   -4    -3    -2     -1\n",
    "\n",
    "print(a[::-1])\n",
    "print(a[::-1][::2])\n",
    "print(a[::-1][::2][3])\n",
    "print(a[::-1][::2][::-1])\n",
    "print(a[::2][::3][0])"
   ]
  },
  {
   "cell_type": "code",
   "execution_count": 97,
   "metadata": {},
   "outputs": [
    {
     "ename": "TypeError",
     "evalue": "'str' object does not support item assignment",
     "output_type": "error",
     "traceback": [
      "\u001b[0;31m---------------------------------------------------------------------------\u001b[0m",
      "\u001b[0;31mTypeError\u001b[0m                                 Traceback (most recent call last)",
      "\u001b[0;32m<ipython-input-97-ac9c8137c27d>\u001b[0m in \u001b[0;36m<module>\u001b[0;34m\u001b[0m\n\u001b[1;32m      1\u001b[0m \u001b[0;31m# read\u001b[0m\u001b[0;34m\u001b[0m\u001b[0;34m\u001b[0m\u001b[0;34m\u001b[0m\u001b[0m\n\u001b[1;32m      2\u001b[0m \u001b[0;31m# update\u001b[0m\u001b[0;34m\u001b[0m\u001b[0;34m\u001b[0m\u001b[0;34m\u001b[0m\u001b[0m\n\u001b[0;32m----> 3\u001b[0;31m \u001b[0ma\u001b[0m\u001b[0;34m[\u001b[0m\u001b[0;36m0\u001b[0m\u001b[0;34m]\u001b[0m\u001b[0;34m=\u001b[0m\u001b[0;34m\"w\"\u001b[0m\u001b[0;34m\u001b[0m\u001b[0;34m\u001b[0m\u001b[0m\n\u001b[0m\u001b[1;32m      4\u001b[0m \u001b[0mprint\u001b[0m\u001b[0;34m(\u001b[0m\u001b[0ma\u001b[0m\u001b[0;34m)\u001b[0m  \u001b[0;31m# read error string is immutable\u001b[0m\u001b[0;34m\u001b[0m\u001b[0;34m\u001b[0m\u001b[0m\n",
      "\u001b[0;31mTypeError\u001b[0m: 'str' object does not support item assignment"
     ]
    }
   ],
   "source": [
    "# read\n",
    "# update\n",
    "a[0]=\"w\"\n",
    "print(a)  # read error string is immutable"
   ]
  },
  {
   "cell_type": "code",
   "execution_count": 99,
   "metadata": {},
   "outputs": [
    {
     "ename": "TypeError",
     "evalue": "'str' object doesn't support item deletion",
     "output_type": "error",
     "traceback": [
      "\u001b[0;31m---------------------------------------------------------------------------\u001b[0m",
      "\u001b[0;31mTypeError\u001b[0m                                 Traceback (most recent call last)",
      "\u001b[0;32m<ipython-input-99-25ca47db17db>\u001b[0m in \u001b[0;36m<module>\u001b[0;34m\u001b[0m\n\u001b[1;32m      1\u001b[0m \u001b[0;31m# delete string\u001b[0m\u001b[0;34m\u001b[0m\u001b[0;34m\u001b[0m\u001b[0;34m\u001b[0m\u001b[0m\n\u001b[1;32m      2\u001b[0m \u001b[0;31m# It will Delete Value Inside  variable as well as flush out memory\u001b[0m\u001b[0;34m\u001b[0m\u001b[0;34m\u001b[0m\u001b[0;34m\u001b[0m\u001b[0m\n\u001b[0;32m----> 3\u001b[0;31m \u001b[0;32mdel\u001b[0m \u001b[0ma\u001b[0m\u001b[0;34m[\u001b[0m\u001b[0;36m0\u001b[0m\u001b[0;34m]\u001b[0m\u001b[0;34m\u001b[0m\u001b[0;34m\u001b[0m\u001b[0m\n\u001b[0m\u001b[1;32m      4\u001b[0m \u001b[0mprint\u001b[0m\u001b[0;34m(\u001b[0m\u001b[0ma\u001b[0m\u001b[0;34m)\u001b[0m\u001b[0;34m\u001b[0m\u001b[0;34m\u001b[0m\u001b[0m\n",
      "\u001b[0;31mTypeError\u001b[0m: 'str' object doesn't support item deletion"
     ]
    }
   ],
   "source": [
    "# delete string\n",
    "# It will Delete Value Inside  variable as well as flush out memory\n",
    "del a[0]\n",
    "print(a)"
   ]
  },
  {
   "cell_type": "code",
   "execution_count": 101,
   "metadata": {},
   "outputs": [
    {
     "ename": "NameError",
     "evalue": "name 'a' is not defined",
     "output_type": "error",
     "traceback": [
      "\u001b[0;31m---------------------------------------------------------------------------\u001b[0m",
      "\u001b[0;31mNameError\u001b[0m                                 Traceback (most recent call last)",
      "\u001b[0;32m<ipython-input-101-c342333e421e>\u001b[0m in \u001b[0;36m<module>\u001b[0;34m\u001b[0m\n\u001b[0;32m----> 1\u001b[0;31m \u001b[0;32mdel\u001b[0m \u001b[0ma\u001b[0m\u001b[0;34m\u001b[0m\u001b[0;34m\u001b[0m\u001b[0m\n\u001b[0m\u001b[1;32m      2\u001b[0m \u001b[0mprint\u001b[0m\u001b[0;34m(\u001b[0m\u001b[0ma\u001b[0m\u001b[0;34m)\u001b[0m\u001b[0;34m\u001b[0m\u001b[0;34m\u001b[0m\u001b[0m\n",
      "\u001b[0;31mNameError\u001b[0m: name 'a' is not defined"
     ]
    }
   ],
   "source": [
    "del a\n",
    "print(a)"
   ]
  },
  {
   "cell_type": "code",
   "execution_count": 103,
   "metadata": {},
   "outputs": [
    {
     "name": "stdout",
     "output_type": "stream",
     "text": [
      "hello world\n",
      "HELLO WORLD\n",
      "heLLO WORLD\n",
      "False\n",
      "False\n",
      "Hello World\n",
      "False\n",
      "True\n",
      "HEllo world\n"
     ]
    }
   ],
   "source": [
    "# function and methods \n",
    "#cases \n",
    "\n",
    "a=\"HEllo world\"          # Data Is Immutable then cant update data without assigning it\n",
    "b=\"Hello World\"\n",
    "\n",
    "print(a.lower())         # We cant update data so we are using method and function inside print for immutable\n",
    "print(a.upper())         # E.g such as list are mutable we cant use them in print cz we can chnge their data and print\n",
    "\n",
    "print(a.swapcase())      # List & Dir are mutable\n",
    "\n",
    "print(a.islower())       # String & Tuple Are Immutable\n",
    "print(a.isupper())\n",
    "\n",
    "print(a.title())         # this current line operation doesn't change original data but \n",
    "\n",
    "print(a.istitle())       # We Have to always assign to change list and directory data\n",
    "print(b.istitle())\n",
    "\n",
    "print(a)"
   ]
  },
  {
   "cell_type": "code",
   "execution_count": 105,
   "metadata": {},
   "outputs": [
    {
     "name": "stdout",
     "output_type": "stream",
     "text": [
      "True\n",
      "True\n",
      "False\n",
      "False\n",
      "True\n",
      "++++hello world+++++\n",
      "hello world\n",
      "hello world.........\n",
      ".........hello world\n"
     ]
    }
   ],
   "source": [
    "# function and methods \n",
    "# Design\n",
    "# Index      0    1     2     3     4     5     6     7     8     9     10\n",
    "# String    h     e      l      l     o      _     w    o      r      l       d\n",
    "# Index  -11  -10  -9   -8    -7     -6    -5   -4    -3    -2     -1\n",
    "\n",
    "a= \"hello world\"\n",
    "\n",
    "print(a.startswith(\"h\"))\n",
    "print(a.startswith(\"hello\"))\n",
    "print(a.startswith(\"Hello\"))\n",
    "\n",
    "print(a.endswith(\"hello\"))\n",
    "print(a.endswith(\"world\"))\n",
    "\n",
    "print(a.center(20,\"+\"))\n",
    "print(a.center(8,\"+\"))\n",
    "\n",
    "print(a.ljust(20,\".\"))\n",
    "print(a.rjust(20,\".\"))"
   ]
  },
  {
   "cell_type": "code",
   "execution_count": 107,
   "metadata": {},
   "outputs": [
    {
     "name": "stdout",
     "output_type": "stream",
     "text": [
      "h-e-l-l-o- -w-o-r-l-d\n",
      "['h', 'e', 'l', 'l', 'o', ' ', 'w', 'o', 'r', 'l', 'd']\n",
      "hello world\n"
     ]
    }
   ],
   "source": [
    "# function and methods \n",
    "# Misc\n",
    "# Index      0    1     2     3     4     5     6     7     8     9     10\n",
    "# String    h     e      l      l     o      _     w    o      r      l       d\n",
    "# Index  -11  -10  -9   -8    -7     -6    -5   -4    -3    -2     -1\n",
    "\n",
    "a= \"hello world\"\n",
    "\n",
    "a=\"-\".join(a)              # delimitor.join(actual_data) #actual_data \n",
    "print(a)\n",
    "\n",
    "a=a.split(\"-\")             #split will always return list\n",
    "print(a)\n",
    "\n",
    "a=\"\".join(a)\n",
    "print(a)"
   ]
  },
  {
   "cell_type": "code",
   "execution_count": 110,
   "metadata": {},
   "outputs": [
    {
     "name": "stdout",
     "output_type": "stream",
     "text": [
      "Enter 10 digit No.  0123456789\n",
      "******6789\n"
     ]
    }
   ],
   "source": [
    "number=input(\"Enter 10 digit No.  \")\n",
    "print(number[6:].rjust(10,\"*\"))"
   ]
  },
  {
   "cell_type": "code",
   "execution_count": 117,
   "metadata": {},
   "outputs": [
    {
     "name": "stdout",
     "output_type": "stream",
     "text": [
      "hello_world\n",
      "hello_world_\n",
      "_hello_world\n"
     ]
    }
   ],
   "source": [
    "# strip\n",
    "a = \"_hello_world_\"\n",
    "print(a.strip(\"_\"))\n",
    "a = \"_hello_world_\"\n",
    "print(a.lstrip(\"_\"))\n",
    "a = \"_hello_world_\"\n",
    "print(a.rstrip(\"_\"))"
   ]
  },
  {
   "cell_type": "code",
   "execution_count": 122,
   "metadata": {},
   "outputs": [
    {
     "data": {
      "text/plain": [
       "6"
      ]
     },
     "execution_count": 122,
     "metadata": {},
     "output_type": "execute_result"
    }
   ],
   "source": [
    "# search and replace\n",
    "a= \"hello world\"\n",
    "#a.find(\"world\")                # find will give index position\n",
    "a.index(\"world\")                # find gives -1 on Not Found AND index will raise the error"
   ]
  },
  {
   "cell_type": "code",
   "execution_count": 124,
   "metadata": {},
   "outputs": [
    {
     "data": {
      "text/plain": [
       "3"
      ]
     },
     "execution_count": 124,
     "metadata": {},
     "output_type": "execute_result"
    }
   ],
   "source": [
    "#count\n",
    "a= \"hello world\"\n",
    "a.count(\"l\")"
   ]
  },
  {
   "cell_type": "code",
   "execution_count": 126,
   "metadata": {},
   "outputs": [
    {
     "name": "stdout",
     "output_type": "stream",
     "text": [
      "hello python\n",
      "hezlo world\n",
      "heylo world\n",
      "hello world\n"
     ]
    }
   ],
   "source": [
    "# Replace\n",
    "#replace(old,new,occurance\n",
    "a= \"hello world\"\n",
    "print(a.replace(\"world\",\"python\"))\n",
    "print(a.replace(\"l\",\"z\",1))         #//temporary\n",
    "print(a.replace(\"l\",\"y\",1))\n",
    "print(a)"
   ]
  },
  {
   "cell_type": "code",
   "execution_count": 130,
   "metadata": {},
   "outputs": [
    {
     "name": "stdout",
     "output_type": "stream",
     "text": [
      "['h', 'e', 'l', 'l', 'o', ' ', 'w', 'o', 'r', 'l', 'd']\n",
      "['l', 'o', ' ', 'w']\n",
      "['h', 'e', 'l', 'python', 'o', ' ', 'w', 'o', 'r', 'l', 'd']\n",
      "['h', 'e', 'l', [1, 2, 3, 4, 5, 6], 'o', ' ', 'w', 'o', 'r', 'l', 'd']\n",
      "['h', 'e', 'l', 1, 2, 3, 4, 5, 'o', ' ', 'w', 'o', 'r', 'l', 'd']\n",
      "['h', 'e', 'l', 1, 2, 'r', 'l', 'd']\n"
     ]
    }
   ],
   "source": [
    "# Index      0    1     2     3     4     5     6     7     8     9     10\n",
    "# String    h     e      l      l     o      _     w    o      r      l       d\n",
    "# Index  -11  -10  -9   -8    -7     -6    -5   -4    -3    -2     -1\n",
    "\n",
    "# CRUD on list\n",
    "a=list(\"hello world\")\n",
    "print(list(a))\n",
    "\n",
    "print(a[3:7])\n",
    "\n",
    "# Scenario 1 #fix index and fix data --> Data will overwrite the index position\n",
    "a=list(\"hello world\")\n",
    "\n",
    "a[3]=\"python\"\n",
    "print(a)\n",
    "\n",
    "a[3]=[1,2,3,4,5,6]\n",
    "print(a)\n",
    "\n",
    "#Scenario 2 #less index and more data so data gets pushed \n",
    "a=list(\"hello world\")\n",
    "\n",
    "a[3:4]=[1,2,3,4,5]\n",
    "print(a)\n",
    "\n",
    "#Scenario 3 # More index present and less data to replace then data gets clipped (Udd jata hai)\n",
    "a=list(\"hello world\")\n",
    "\n",
    "a[3:8]=[1,2]\n",
    "print(a)"
   ]
  },
  {
   "cell_type": "code",
   "execution_count": 132,
   "metadata": {},
   "outputs": [
    {
     "name": "stdout",
     "output_type": "stream",
     "text": [
      "['h', 'e', 'l', 'l', 'o', ' ', 'w', 'o', 'r', 'l', 'd']\n",
      "['h', 'e', 'l', 'o', 'r', 'l', 'd']\n"
     ]
    }
   ],
   "source": [
    "# Delete\n",
    "a=list(\"hello world\")\n",
    "print(a)\n",
    "\n",
    "del a[3]\n",
    "del a[3:6]\n",
    "\n",
    "print(a)\n",
    "\n",
    "# del(a)\n",
    "# print(a)  # will throw error cz list is deleted"
   ]
  },
  {
   "cell_type": "code",
   "execution_count": 134,
   "metadata": {},
   "outputs": [
    {
     "name": "stdout",
     "output_type": "stream",
     "text": [
      "['h', 'e', 'l', 'l', 'o', ' ', 'w', 'o', 'r', 'l', 'd', 'hello']\n",
      "[]\n"
     ]
    }
   ],
   "source": [
    "# Methods\n",
    "\n",
    "a=list(\"hello world\")\n",
    "a.append(\"hello\")       #appends value at end\n",
    "print(a)\n",
    "\n",
    "a.clear()\n",
    "print(a)"
   ]
  },
  {
   "cell_type": "code",
   "execution_count": 136,
   "metadata": {},
   "outputs": [
    {
     "name": "stdout",
     "output_type": "stream",
     "text": [
      "['h', 'e', 'l', 'python', 'o', ' ', 'w', 'o', 'r', 'l', 'd']\n",
      "['h', 'e', 'l', 'python', 'o', ' ', 'w', 'o', 'r', 'l', 'd']\n",
      "['h', 'e', 'l', 'l', 'o', ' ', 'w', 'o', 'r', 'l', 'd']\n"
     ]
    }
   ],
   "source": [
    "a= list(\"hello world\")\n",
    "b=a\n",
    "\n",
    "c=a.copy()\n",
    "\n",
    "a[3]=\"python\"\n",
    "\n",
    "print(a)\n",
    "print(b)\n",
    "print(c)"
   ]
  },
  {
   "cell_type": "code",
   "execution_count": 138,
   "metadata": {},
   "outputs": [
    {
     "name": "stdout",
     "output_type": "stream",
     "text": [
      "['h', 'e', 'l', 'l', 'o', ' ', 'w', 'o', 'r', 'l', 'd', 'red', 'green', 'yellow']\n"
     ]
    }
   ],
   "source": [
    "a= list(\"hello world\")\n",
    "a.count(\"l\")\n",
    "\n",
    "list2=[\"red\",\"green\",\"yellow\"]\n",
    "a.extend(list2)                   # Extends means Adds From End \n",
    "print(a)"
   ]
  },
  {
   "cell_type": "code",
   "execution_count": 142,
   "metadata": {},
   "outputs": [
    {
     "name": "stdout",
     "output_type": "stream",
     "text": [
      "2\n",
      "['h', 'e', 'l', 'l', 'python', 'o', ' ', 'w', 'o', 'r', 'l', 'd']\n",
      "d\n",
      "['h', 'e', 'l', 'python', 'o', ' ', 'w', 'o', 'r', 'l'] remove first occurance\n",
      "['l', 'r', 'o', 'w', ' ', 'o', 'python', 'l', 'e', 'h']Reverse List\n",
      "['w', 'r', 'python', 'o', 'o', 'l', 'l', 'h', 'e', ' ']Reverse Sort\n",
      "[' ', 'e', 'h', 'l', 'l', 'o', 'o', 'python', 'r', 'w']Asc Sort\n"
     ]
    }
   ],
   "source": [
    "a = list(\"hello world\")\n",
    "print(a.index(\"l\"))\n",
    "\n",
    "a.insert(4,\"python\")             #Inserts Element At Defined Position\n",
    "print(a)\n",
    "\n",
    "print(a.pop())                  #pops last element\n",
    "\n",
    "a.remove(\"l\")\n",
    "print(f\"{a} remove first occurance\")            #removes 1st occurance\n",
    "\n",
    "a.reverse()\n",
    "print(f\"{a}Reverse List\")            #Reverses List\n",
    "\n",
    "a.sort(reverse=True)   #Sorts in reverse order\n",
    "print(f\"{a}Reverse Sort\")\n",
    "\n",
    "a.sort()\n",
    "print(f\"{a}Asc Sort\")"
   ]
  },
  {
   "cell_type": "code",
   "execution_count": 9,
   "metadata": {},
   "outputs": [
    {
     "name": "stdout",
     "output_type": "stream",
     "text": [
      "Enter name: Snehar\n",
      "Enter Std: 5\n",
      "Enter Address: somewhere\n",
      "Enter Roll No: 23\n",
      "Enter Pin: NaN\n",
      "Enter Landmark: Landmark\n",
      "{'name': 'Snehar', 'std': '5', 'Address': {'pincode': 'NaN', 'landmark': 'Landmark'}, 'roll_no': '23'}\n"
     ]
    }
   ],
   "source": [
    "#dict\n",
    "#CRUD\n",
    "#CREATE\n",
    "dict1 ={\n",
    "    \"name\":input(\"Enter name: \"),\n",
    "    \"std\":input(\"Enter Std: \"),\n",
    "    \"Address\":input(\"Enter Address: \"),\n",
    "    \"roll_no\":input(\"Enter Roll No: \"),\n",
    "    \"Address\":{\n",
    "        \"pincode\":input(\"Enter Pin: \"),\n",
    "        \"landmark\":input(\"Enter Landmark: \"),\n",
    "        \n",
    "    }\n",
    "}\n",
    "print(dict1)"
   ]
  },
  {
   "cell_type": "code",
   "execution_count": 10,
   "metadata": {},
   "outputs": [
    {
     "name": "stdout",
     "output_type": "stream",
     "text": [
      "Snehar\n",
      "NaN\n"
     ]
    }
   ],
   "source": [
    "# Read Dict\n",
    "\n",
    "print(dict1[\"name\"])\n",
    "print(dict1['Address']['pincode'])"
   ]
  },
  {
   "cell_type": "code",
   "execution_count": 11,
   "metadata": {},
   "outputs": [
    {
     "name": "stdout",
     "output_type": "stream",
     "text": [
      "{'name': 'Snehar2', 'std': '5', 'Address': {'pincode': 'NaN', 'landmark': 'Landmark'}, 'roll_no': '23', 'landmark': 'interstellar'}\n"
     ]
    }
   ],
   "source": [
    "#update\n",
    "\n",
    "dict1['name']=\"Snehar2\"\n",
    "dict1['landmark']=\"interstellar\"\n",
    "print(dict1)"
   ]
  },
  {
   "cell_type": "code",
   "execution_count": 12,
   "metadata": {},
   "outputs": [
    {
     "name": "stdout",
     "output_type": "stream",
     "text": [
      "{'name': 'Snehar2', 'Address': {'pincode': 'NaN', 'landmark': 'Landmark'}, 'roll_no': '23', 'landmark': 'interstellar'}\n"
     ]
    }
   ],
   "source": [
    "# DELETE\n",
    "del dict1[\"std\"]\n",
    "print(dict1)"
   ]
  },
  {
   "cell_type": "code",
   "execution_count": 14,
   "metadata": {},
   "outputs": [
    {
     "name": "stdout",
     "output_type": "stream",
     "text": [
      "{'name': 'snehar', 'std': '5', 'roll_no': '23'}\n",
      "{}\n",
      "{'name': 'snehar2'}\n",
      "{}\n"
     ]
    },
    {
     "data": {
      "text/plain": [
       "{'name': None, 'std': None, 'roll_no': None, 'address': None}"
      ]
     },
     "execution_count": 14,
     "metadata": {},
     "output_type": "execute_result"
    }
   ],
   "source": [
    "# Methods Of Dictionaries (Hard Coded)\n",
    "\n",
    "dict1 = {\n",
    "    \"name\":\"snehar\",\"std\":\"5\",\"roll_no\":\"23\"\n",
    "}\n",
    "\n",
    "print(dict1)\n",
    "dict1.clear()\n",
    "print(dict1)\n",
    "\n",
    "a=dict1\n",
    "b=dict1.copy()\n",
    "\n",
    "dict1[\"name\"]=\"snehar2\"\n",
    "print(a)\n",
    "print(b)\n",
    "\n",
    "list1 =['name','std','roll_no','address']\n",
    "{}.fromkeys(list1,'NA')                       #default value is NA\n",
    "{}.fromkeys(list1)                           #default value is none\n",
    "\n"
   ]
  },
  {
   "cell_type": "code",
   "execution_count": 16,
   "metadata": {},
   "outputs": [
    {
     "name": "stdout",
     "output_type": "stream",
     "text": [
      "snehar\n",
      "dict_items([('name', 'snehar'), ('std', '5'), ('roll_no', '23')])\n",
      "[('name', 'snehar'), ('std', '5'), ('roll_no', '23')]\n",
      "{'std': '5', 'roll_no': '23'} DIctionary details\n"
     ]
    }
   ],
   "source": [
    "dict1 = {\n",
    "    \"name\":\"snehar\",\"std\":\"5\",\"roll_no\":\"23\"\n",
    "}\n",
    "\n",
    "print(dict1.get('name','NA'))                     #If name not present default value is NA\n",
    "\n",
    "print(dict1.items())                                 #Returns Key And Values In Form Of Tuple\n",
    "\n",
    "print(list(dict1.items()))                           #returns dict in a list form\n",
    "\n",
    "dict1.pop(\"name\")\n",
    "\n",
    "print(f\"{dict1} DIctionary details\")"
   ]
  },
  {
   "cell_type": "code",
   "execution_count": 18,
   "metadata": {},
   "outputs": [
    {
     "name": "stdout",
     "output_type": "stream",
     "text": [
      "{'std': '5', 'roll_no': '23', 'name': None}\n"
     ]
    }
   ],
   "source": [
    "dict1 = {\n",
    "    \"std\":\"5\",\"roll_no\":\"23\"\n",
    "}\n",
    "\n",
    "dict1.setdefault(\"name\") # If key doesn't Exist Then Creates Key By Specified Name and Value default None\n",
    "print(dict1)"
   ]
  },
  {
   "cell_type": "code",
   "execution_count": 20,
   "metadata": {},
   "outputs": [
    {
     "name": "stdout",
     "output_type": "stream",
     "text": [
      "{'std': '5', 'roll_no': '23', 'name': None, 'placement': False, 'subject': ['python', 'php', 'django']}\n"
     ]
    }
   ],
   "source": [
    "dict2 = {\"placement\":False,\"subject\":['python','php','django']}\n",
    "dict1.update(dict2)                        #updates a dict \n",
    "print(dict1)"
   ]
  },
  {
   "cell_type": "code",
   "execution_count": 22,
   "metadata": {},
   "outputs": [],
   "source": [
    "# Key is Always Immutable ;\n",
    "# Value Can be mutable;\n",
    "# If a dict contains same key then it will overwrite it with last assigned value\n",
    "# Dict is Mutable"
   ]
  },
  {
   "cell_type": "markdown",
   "metadata": {},
   "source": [
    "## SETS"
   ]
  },
  {
   "cell_type": "code",
   "execution_count": 23,
   "metadata": {},
   "outputs": [
    {
     "name": "stdout",
     "output_type": "stream",
     "text": [
      "set()\n",
      "{87}\n",
      "{1, 2, 3, 4, 5, 6, 7, 8, 9}--Intersection\n",
      "False--Disjoint\n",
      "True--Subset\n",
      "False--Superset\n",
      "{1, 2, 3, 4, 5, 6, 7, 8, 9, 87}--Union\n",
      "{87}--Symmetric_diff\n",
      "False--Disjoint\n",
      "None--Difference Update\n"
     ]
    }
   ],
   "source": [
    "# SETS\n",
    "\n",
    "a = {1,2,3,4,5,6,7,8,9}\n",
    "b = {1,2,3,4,5,6,7,8,9,87}\n",
    "\n",
    "print(a.difference(b))\n",
    "print(b.difference(a))\n",
    "\n",
    "print(f\"{a.intersection(b)}--Intersection\")\n",
    "print(f\"{a.isdisjoint(b)}--Disjoint\")\n",
    "print(f\"{a.issubset(b)}--Subset\")\n",
    "print(f\"{a.issuperset(b)}--Superset\")\n",
    "print(f\"{a.union(b)}--Union\")\n",
    "print(f\"{a.symmetric_difference(b)}--Symmetric_diff\")\n",
    "print(f\"{a.isdisjoint(b)}--Disjoint\")\n",
    "print(f\"{a.difference_update(b)}--Difference Update\")"
   ]
  }
 ],
 "metadata": {
  "kernelspec": {
   "display_name": "Python 3",
   "language": "python",
   "name": "python3"
  },
  "language_info": {
   "codemirror_mode": {
    "name": "ipython",
    "version": 3
   },
   "file_extension": ".py",
   "mimetype": "text/x-python",
   "name": "python",
   "nbconvert_exporter": "python",
   "pygments_lexer": "ipython3",
   "version": "3.7.1"
  }
 },
 "nbformat": 4,
 "nbformat_minor": 2
}
