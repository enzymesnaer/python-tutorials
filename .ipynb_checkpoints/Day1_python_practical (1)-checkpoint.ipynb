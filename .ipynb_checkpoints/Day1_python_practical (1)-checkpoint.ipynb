{
 "cells": [
  {
   "cell_type": "markdown",
   "metadata": {},
   "source": [
    "# python"
   ]
  },
  {
   "cell_type": "code",
   "execution_count": 4,
   "metadata": {},
   "outputs": [
    {
     "name": "stdout",
     "output_type": "stream",
     "text": [
      "Hello World\n"
     ]
    }
   ],
   "source": [
    "print(\"Hello World\")"
   ]
  },
  {
   "cell_type": "markdown",
   "metadata": {},
   "source": [
    "<h2> Day 1 Pyhton Partical </h2>\n"
   ]
  },
  {
   "cell_type": "markdown",
   "metadata": {},
   "source": [
    "<h1>Variable and  Assignments </h1>"
   ]
  },
  {
   "cell_type": "code",
   "execution_count": 6,
   "metadata": {
    "collapsed": true
   },
   "outputs": [],
   "source": [
    "# ----------------------------\n",
    "# Only underscore(_) is valid while creating variable\n",
    "# Number can't be used from start for creating variable\n",
    "# ----------------------------"
   ]
  },
  {
   "cell_type": "code",
   "execution_count": 8,
   "metadata": {},
   "outputs": [],
   "source": [
    "# Examples of valid variables\n",
    "# a=23\n",
    "# print(a)\n",
    "\n",
    "# _a = 35\n",
    "# print(_a)\n",
    "\n",
    "# a_1=34\n",
    "# print(a_1)\n",
    "\n",
    "# a321 = 454\n",
    "# print(a321)\n",
    "\n",
    "\n",
    "# Examples of invalid variables\n",
    "# 1a=23\n",
    "# print(1a)\n",
    "\n",
    "\n",
    "\n",
    "\n",
    "\n"
   ]
  },
  {
   "cell_type": "code",
   "execution_count": 9,
   "metadata": {},
   "outputs": [
    {
     "name": "stdout",
     "output_type": "stream",
     "text": [
      "1 2 3 4\n"
     ]
    }
   ],
   "source": [
    "a,b,c,d =1,2,3,4\n",
    "print(a,b,c,d)"
   ]
  },
  {
   "cell_type": "code",
   "execution_count": 12,
   "metadata": {},
   "outputs": [
    {
     "name": "stdout",
     "output_type": "stream",
     "text": [
      "32 23\n"
     ]
    }
   ],
   "source": [
    "a=23\n",
    "b=32\n",
    "c= a\n",
    "a=b\n",
    "b=c\n",
    "print(a,b)"
   ]
  },
  {
   "cell_type": "code",
   "execution_count": 13,
   "metadata": {},
   "outputs": [
    {
     "name": "stdout",
     "output_type": "stream",
     "text": [
      "23 32\n"
     ]
    }
   ],
   "source": [
    "a,b =b,a\n",
    "print(a,b)"
   ]
  },
  {
   "cell_type": "code",
   "execution_count": 14,
   "metadata": {},
   "outputs": [
    {
     "name": "stdout",
     "output_type": "stream",
     "text": [
      "23 34.56 (34+5j)\n",
      "<class 'int'> <class 'float'> <class 'complex'>\n"
     ]
    }
   ],
   "source": [
    "a=23\n",
    "b = 34.56\n",
    "c= 34+5j\n",
    "print(a,b,c)\n",
    "print(type(a),type(b),type(c))"
   ]
  },
  {
   "cell_type": "code",
   "execution_count": 15,
   "metadata": {},
   "outputs": [
    {
     "name": "stdout",
     "output_type": "stream",
     "text": [
      "<class 'str'> <class 'str'> <class 'str'>\n"
     ]
    }
   ],
   "source": [
    "a='h'\n",
    "b=\"hello world\"\n",
    "c='''hello'''\n",
    "print(type(a),type(b),type(c))\n"
   ]
  },
  {
   "cell_type": "code",
   "execution_count": 23,
   "metadata": {},
   "outputs": [
    {
     "name": "stdout",
     "output_type": "stream",
     "text": [
      "<class 'tuple'> <class 'tuple'>\n",
      "(1, 2, 3, 4, 5, 6)\n",
      "('helllo', 1, 2, 3, (1, 2, 3))\n"
     ]
    }
   ],
   "source": [
    "a = (1,2,3,4,5,6)\n",
    "b=(\"helllo\",1,2,3,(1,2,3))\n",
    "print(type(a),type(b))\n",
    "print(a,b,sep='\\n')\n",
    "      "
   ]
  },
  {
   "cell_type": "code",
   "execution_count": 27,
   "metadata": {},
   "outputs": [
    {
     "name": "stdout",
     "output_type": "stream",
     "text": [
      "<class 'set'> <class 'set'>\n"
     ]
    }
   ],
   "source": [
    "a = {1,2,3}\n",
    "b = {11,22,33}\n",
    "print(type(a),type(b))"
   ]
  },
  {
   "cell_type": "code",
   "execution_count": 26,
   "metadata": {},
   "outputs": [
    {
     "name": "stdout",
     "output_type": "stream",
     "text": [
      "<class 'dict'>\n",
      "{'name': 'neha', 'designation': 'web developer', 'subject': ['python'], 'roll_no': 36}\n"
     ]
    }
   ],
   "source": [
    "a = {\"name\":\"neha\", \"designation\":\"web developer\",\"subject\":['python'],\"roll_no\":36}\n",
    "print(type(a),a,sep='\\n')"
   ]
  },
  {
   "cell_type": "code",
   "execution_count": 34,
   "metadata": {},
   "outputs": [
    {
     "name": "stdout",
     "output_type": "stream",
     "text": [
      "50 -10 0.6666666666666666 600 20\n"
     ]
    }
   ],
   "source": [
    "a=20\n",
    "b=30\n",
    "c=40\n",
    "add,sub,divide,multipy,mod = a+b,a-b,a/b,a*b,a%b\n",
    "print(add,sub,divide,multipy,mod)"
   ]
  },
  {
   "cell_type": "code",
   "execution_count": 36,
   "metadata": {},
   "outputs": [
    {
     "name": "stdout",
     "output_type": "stream",
     "text": [
      "-1\n",
      "-2\n"
     ]
    }
   ],
   "source": [
    "a=-2\n",
    "b=3\n",
    "print(a//b)\n",
    "print(b//a)"
   ]
  },
  {
   "cell_type": "code",
   "execution_count": 37,
   "metadata": {},
   "outputs": [
    {
     "name": "stdout",
     "output_type": "stream",
     "text": [
      "0\n",
      "1\n"
     ]
    }
   ],
   "source": [
    "a=2\n",
    "b=3\n",
    "print(a//b)\n",
    "print(b//a)"
   ]
  },
  {
   "cell_type": "markdown",
   "metadata": {},
   "source": [
    "a=20**30\n",
    "\n",
    "print(a)"
   ]
  },
  {
   "cell_type": "code",
   "execution_count": 1,
   "metadata": {},
   "outputs": [
    {
     "name": "stdout",
     "output_type": "stream",
     "text": [
      "400\n"
     ]
    }
   ],
   "source": [
    "a = 20**2\n",
    "print(a)"
   ]
  },
  {
   "cell_type": "code",
   "execution_count": 16,
   "metadata": {},
   "outputs": [
    {
     "name": "stdout",
     "output_type": "stream",
     "text": [
      "0\n",
      "3\n",
      "0\n",
      "True\n",
      "False\n",
      "0\n",
      "3\n",
      "0b11\n",
      "1\n"
     ]
    }
   ],
   "source": [
    "a=0\n",
    "b=3\n",
    "c=3\n",
    "print(a and b)\n",
    "print(b and c)\n",
    "print(b and a and c)\n",
    "print(a<b and b<c or c>a)\n",
    "print(a==b and b==c or c==a)\n",
    "print(a&b)\n",
    "print(a|b)\n",
    "print(bin(b))\n",
    "print(b>>1)"
   ]
  },
  {
   "cell_type": "code",
   "execution_count": 20,
   "metadata": {},
   "outputs": [
    {
     "name": "stdout",
     "output_type": "stream",
     "text": [
      "True\n",
      "True\n",
      "False\n",
      "True\n",
      "True\n"
     ]
    }
   ],
   "source": [
    "a=\"hello\"\n",
    "print(\"h\" in a)\n",
    "print(\"hello\" in a)\n",
    "print(\"Hello\" in a)\n",
    "print(\"Hello\" not in a)\n",
    "\n",
    "\n",
    "a= [1,2,3,4,5,6]\n",
    "print(6 in a)\n"
   ]
  },
  {
   "cell_type": "code",
   "execution_count": 22,
   "metadata": {},
   "outputs": [
    {
     "name": "stdout",
     "output_type": "stream",
     "text": [
      "8\n"
     ]
    }
   ],
   "source": [
    "a = 3\n",
    "a+=5\n",
    "print(a)"
   ]
  },
  {
   "cell_type": "code",
   "execution_count": 28,
   "metadata": {},
   "outputs": [
    {
     "name": "stdout",
     "output_type": "stream",
     "text": [
      "None\n"
     ]
    },
    {
     "data": {
      "text/plain": [
       "False"
      ]
     },
     "execution_count": 28,
     "metadata": {},
     "output_type": "execute_result"
    }
   ],
   "source": [
    "l = None\n",
    "print(l)\n",
    "a=3\n",
    "a is l"
   ]
  },
  {
   "cell_type": "code",
   "execution_count": null,
   "metadata": {
    "collapsed": true
   },
   "outputs": [],
   "source": []
  },
  {
   "cell_type": "code",
   "execution_count": 47,
   "metadata": {},
   "outputs": [
    {
     "name": "stdout",
     "output_type": "stream",
     "text": [
      "16.0\n",
      "<class 'float'>\n",
      "<class 'int'>\n"
     ]
    }
   ],
   "source": [
    "b\n",
    "print(no1)\n",
    "print(type(no1))\n",
    "print(type(no12))"
   ]
  },
  {
   "cell_type": "raw",
   "metadata": {},
   "source": []
  },
  {
   "cell_type": "code",
   "execution_count": 51,
   "metadata": {},
   "outputs": [
    {
     "name": "stdout",
     "output_type": "stream",
     "text": [
      "enter no 1: 5\n",
      "enter no 2: 1\n",
      "A is greater\n",
      "5 1\n",
      "A is greater\n"
     ]
    }
   ],
   "source": [
    "a= int(input(\"enter no 1: \"))\n",
    "b = int(input(\"enter no 2: \"))\n",
    "if a>b:\n",
    "    print(\"A is greater\")\n",
    "else:\n",
    "    print(\"B is greater\")\n",
    "\n",
    "print(a,b)    \n",
    "\n",
    "print(\"A is greater\") if a>b else print(\"B is greater\")"
   ]
  },
  {
   "cell_type": "code",
   "execution_count": 53,
   "metadata": {},
   "outputs": [
    {
     "name": "stdout",
     "output_type": "stream",
     "text": [
      "enter no 1: 3\n",
      "enter no 2: 4\n",
      "enter no 3: 1\n",
      "4 is greater\n"
     ]
    }
   ],
   "source": [
    "a= int(input(\"enter no 1: \"))\n",
    "b = int(input(\"enter no 2: \"))\n",
    "c = int(input(\"enter no 3: \"))\n",
    "if a>b and a>c:\n",
    "    print(f\"{a} is greater\")\n",
    "elif b>a and b>c:\n",
    "    print(f\"{b} is greater\")\n",
    "else:\n",
    "    print(f\"{c} is greater\")\n",
    "    "
   ]
  },
  {
   "cell_type": "code",
   "execution_count": 37,
   "metadata": {},
   "outputs": [
    {
     "name": "stdout",
     "output_type": "stream",
     "text": [
      "enter no116\n",
      "enter no22\n",
      "4.0\n"
     ]
    }
   ],
   "source": [
    "print(float(input(\"enter no1\"))**(1/float(input(\"enter no2\"))))"
   ]
  },
  {
   "cell_type": "code",
   "execution_count": 54,
   "metadata": {},
   "outputs": [
    {
     "name": "stdout",
     "output_type": "stream",
     "text": [
      "[0, 1, 2, 3, 4, 5, 6, 7, 8, 9]\n",
      "[0, 1, 2, 3, 4, 5, 6, 7, 8, 9]\n",
      "[5, 6, 7, 8, 9]\n",
      "[-10, -9, -8, -7, -6, -5, -4, -3, -2, -1, 0, 1, 2, 3, 4, 5, 6, 7, 8, 9]\n",
      "[0, 2, 4, 6, 8]\n",
      "[1, 4, 7]\n",
      "[]\n",
      "[10, 9, 8, 7, 6, 5, 4, 3, 2]\n",
      "[10, 9, 8, 7, 6, 5, 4, 3, 2, 1, 0, -1, -2, -3, -4, -5, -6, -7, -8, -9]\n"
     ]
    }
   ],
   "source": [
    "print(list(range(0,10)))\n",
    "print(list(range(10)))\n",
    "print(list(range(5,10)))\n",
    "print(list(range(-10,10)))\n",
    "print(list(range(0,10,2)))\n",
    "print(list(range(1,10,3)))\n",
    "print(list(range(10,1)))\n",
    "print(list(range(10,1,-1)))\n",
    "print(list(range(10,-10,-1)))\n"
   ]
  },
  {
   "cell_type": "code",
   "execution_count": null,
   "metadata": {
    "scrolled": true
   },
   "outputs": [],
   "source": [
    "a= int(input(\"enter no 1: \"))\n",
    "b = int(input(\"enter no 2: \"))\n",
    "c = int(input(\"enter no 3: \"))\n",
    "print(f\"{a} is greater\") if a>b and a>c else print(f\"{b} is greater\") if b>a and b>c else print(f\"{c} is greater\")"
   ]
  },
  {
   "cell_type": "code",
   "execution_count": 2,
   "metadata": {},
   "outputs": [
    {
     "name": "stdout",
     "output_type": "stream",
     "text": [
      "0\n",
      "1\n",
      "2\n",
      "3\n",
      "4\n",
      "5\n",
      "6\n",
      "7\n",
      "8\n",
      "9\n",
      "10\n",
      "finished execution!!\n"
     ]
    }
   ],
   "source": [
    "counter=0\n",
    "while(counter <=10):\n",
    "    print(counter)\n",
    "    counter+=1\n",
    "else: \n",
    "    print(\"finished execution!!\")"
   ]
  },
  {
   "cell_type": "code",
   "execution_count": 6,
   "metadata": {},
   "outputs": [
    {
     "name": "stdout",
     "output_type": "stream",
     "text": [
      "1\n",
      "2\n",
      "3\n",
      "4\n",
      "5\n",
      "6\n",
      "7\n",
      "8\n",
      "9\n",
      "\n",
      "1\n",
      "2\n",
      "3\n",
      "4\n",
      "5\n",
      "6\n",
      "7\n",
      "8\n",
      "9\n",
      "\n",
      "h\n",
      "e\n",
      "l\n",
      "l\n",
      "o\n",
      " \n",
      "w\n",
      "o\n",
      "r\n",
      "l\n",
      "d\n",
      "\n",
      "a\n",
      "b\n",
      "c\n",
      "d\n",
      "e\n",
      "f\n",
      "g\n",
      "h\n",
      "i\n",
      "j\n",
      "k\n",
      "l\n",
      "m\n",
      "n\n",
      "o\n",
      "p\n",
      "q\n",
      "r\n",
      "s\n",
      "t\n",
      "u\n",
      "v\n",
      "w\n",
      "x\n",
      "y\n",
      "z\n"
     ]
    }
   ],
   "source": [
    "for i in range(1,10):\n",
    "    print(i)\n",
    "print(\"\")\n",
    "for i in list(range(1,10)):\n",
    "    print(i)\n",
    "print(\"\")\n",
    "for i in \"hello world\":\n",
    "    print(i)\n",
    "print(\"\")\n",
    "for i in range(97,123):\n",
    "    print(chr(i))\n",
    "    "
   ]
  },
  {
   "cell_type": "code",
   "execution_count": 9,
   "metadata": {},
   "outputs": [
    {
     "name": "stdout",
     "output_type": "stream",
     "text": [
      "Index is 0  of a\n",
      "Index is 1  of b\n",
      "Index is 2  of c\n",
      "Index is 3  of d\n",
      "Index is 4  of e\n",
      "Index is 5  of f\n",
      "Index is 6  of g\n",
      "Index is 7  of h\n",
      "Index is 8  of i\n",
      "Index is 9  of j\n",
      "Index is 10  of k\n",
      "Index is 11  of l\n",
      "Index is 12  of m\n",
      "Index is 13  of n\n",
      "Index is 14  of o\n",
      "Index is 15  of p\n",
      "Index is 16  of q\n",
      "Index is 17  of r\n",
      "Index is 18  of s\n",
      "Index is 19  of t\n",
      "Index is 20  of u\n",
      "Index is 21  of v\n",
      "Index is 22  of w\n",
      "Index is 23  of x\n",
      "Index is 24  of y\n",
      "Index is 25  of z\n"
     ]
    }
   ],
   "source": [
    "for index,data in enumerate(range(97,123)):\n",
    "        print(f\"Index is {index}  of {chr(data)}\")"
   ]
  },
  {
   "cell_type": "code",
   "execution_count": 12,
   "metadata": {},
   "outputs": [
    {
     "name": "stdout",
     "output_type": "stream",
     "text": [
      "1.Enter No. 2.Exit : 1\n",
      "Enter no: 12\n",
      "12.0\n",
      "1.Enter No. 2.Exit : 1\n",
      "Enter no: 45\n",
      "57.0\n",
      "1.Enter No. 2.Exit : 2\n",
      "Welcome Again!\n"
     ]
    }
   ],
   "source": [
    "sum=0\n",
    "while(True):\n",
    "    choice=int(input(\"1.Enter No. 2.Exit : \"))\n",
    "    if choice==1:\n",
    "        sum+=float(input(\"Enter no: \"))\n",
    "        print(sum)\n",
    "    elif choice==2:\n",
    "        print(\"Welcome Again!\")\n",
    "        break;\n",
    "    else:\n",
    "        print(\"Invalid Choice!\")"
   ]
  }
 ],
 "metadata": {
  "kernelspec": {
   "display_name": "Python 3",
   "language": "python",
   "name": "python3"
  },
  "language_info": {
   "codemirror_mode": {
    "name": "ipython",
    "version": 3
   },
   "file_extension": ".py",
   "mimetype": "text/x-python",
   "name": "python",
   "nbconvert_exporter": "python",
   "pygments_lexer": "ipython3",
   "version": "3.7.1"
  }
 },
 "nbformat": 4,
 "nbformat_minor": 2
}
