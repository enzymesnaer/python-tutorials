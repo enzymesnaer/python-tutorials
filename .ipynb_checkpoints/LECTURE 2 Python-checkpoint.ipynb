{
 "cells": [
  {
   "cell_type": "code",
   "execution_count": 1,
   "metadata": {},
   "outputs": [
    {
     "name": "stdout",
     "output_type": "stream",
     "text": [
      "23 23.45 (23+45j)\n"
     ]
    }
   ],
   "source": [
    "#number system\n",
    "#create\n",
    "a=23\n",
    "b=23.45\n",
    "c=23 + 45\n",
    "c =23+45j\n",
    "#read\n",
    "\n",
    "print(a,b,c)\n",
    "\n",
    "#update\n",
    "#is not possoblr we cant update no...\n",
    "#numbers are immutable\n",
    "#immutable methods will definitely return output\n",
    "# immutable means we cant update data"
   ]
  },
  {
   "cell_type": "code",
   "execution_count": 2,
   "metadata": {},
   "outputs": [
    {
     "ename": "NameError",
     "evalue": "name 'a' is not defined",
     "output_type": "error",
     "traceback": [
      "\u001b[1;31m---------------------------------------------------------------------------\u001b[0m",
      "\u001b[1;31mNameError\u001b[0m                                 Traceback (most recent call last)",
      "\u001b[1;32m<ipython-input-2-17412fd0df45>\u001b[0m in \u001b[0;36m<module>\u001b[1;34m\u001b[0m\n\u001b[0;32m      1\u001b[0m \u001b[1;31m#delete\u001b[0m\u001b[1;33m\u001b[0m\u001b[1;33m\u001b[0m\u001b[1;33m\u001b[0m\u001b[0m\n\u001b[0;32m      2\u001b[0m \u001b[1;32mdel\u001b[0m \u001b[0ma\u001b[0m\u001b[1;33m,\u001b[0m\u001b[0mb\u001b[0m\u001b[1;33m,\u001b[0m\u001b[0mc\u001b[0m\u001b[1;33m\u001b[0m\u001b[1;33m\u001b[0m\u001b[0m\n\u001b[1;32m----> 3\u001b[1;33m \u001b[0mprint\u001b[0m\u001b[1;33m(\u001b[0m\u001b[0ma\u001b[0m\u001b[1;33m,\u001b[0m\u001b[0mb\u001b[0m\u001b[1;33m,\u001b[0m\u001b[0mc\u001b[0m\u001b[1;33m)\u001b[0m\u001b[1;33m\u001b[0m\u001b[1;33m\u001b[0m\u001b[0m\n\u001b[0m",
      "\u001b[1;31mNameError\u001b[0m: name 'a' is not defined"
     ]
    }
   ],
   "source": [
    "#delete\n",
    "del a,b,c\n",
    "print(a,b,c)\n",
    "\n",
    "#will throw error for deleted values"
   ]
  },
  {
   "cell_type": "code",
   "execution_count": 13,
   "metadata": {},
   "outputs": [
    {
     "name": "stdout",
     "output_type": "stream",
     "text": [
      "23.3445\n",
      "23\n",
      "23.3445\n",
      "-23\n",
      "25\n",
      "24.5\n"
     ]
    }
   ],
   "source": [
    "# absolute # min # max #threshhold #round\n",
    "\n",
    "a=23.3445\n",
    "b= -23\n",
    "\n",
    "print(abs(a))\n",
    "print(abs(b))\n",
    "\n",
    "print(max(a,b))\n",
    "print(min(a,b))\n",
    "\n",
    "a=24.87\n",
    "b=24.49\n",
    "print(round(a))\n",
    "print(round(b,1))"
   ]
  },
  {
   "cell_type": "code",
   "execution_count": 14,
   "metadata": {},
   "outputs": [],
   "source": [
    "#maths package\n",
    "\n",
    "import math as m\n"
   ]
  },
  {
   "cell_type": "code",
   "execution_count": 20,
   "metadata": {},
   "outputs": [
    {
     "name": "stdout",
     "output_type": "stream",
     "text": [
      "24\n",
      "-23\n",
      "23\n",
      "-24\n",
      "(0.4499999999999993, 23.0)\n",
      "(-0.5599999999999987, -23.0)\n"
     ]
    },
    {
     "data": {
      "text/plain": [
       "-23"
      ]
     },
     "execution_count": 20,
     "metadata": {},
     "output_type": "execute_result"
    }
   ],
   "source": [
    "#math package E.G.\n",
    "\n",
    "a-23\n",
    "b=23.45\n",
    "c= -23.56\n",
    "d=55\n",
    "\n",
    "# methods for math packages\n",
    "\n",
    "print(m.ceil(b))\n",
    "print(m.ceil(c))\n",
    "print(m.floor(b))\n",
    "print(m.floor(c))\n",
    "\n",
    "print(m.modf(b))\n",
    "print(m.modf(c))\n",
    "m.trunc(c)"
   ]
  },
  {
   "cell_type": "code",
   "execution_count": null,
   "metadata": {},
   "outputs": [],
   "source": [
    "# Trignometric Functions\n",
    "#Assignment try Every FUnction Of Math Module ANd Practice it With One Example"
   ]
  },
  {
   "cell_type": "code",
   "execution_count": null,
   "metadata": {},
   "outputs": [],
   "source": [
    "# Random Package\n",
    "\n",
    "# random()\n",
    "# randrange()\n",
    "# uniform()\n",
    "# shuffle()\n",
    "# choice()\n",
    "# seed()       --> V Imp --Network Uses IT\n"
   ]
  },
  {
   "cell_type": "code",
   "execution_count": 22,
   "metadata": {},
   "outputs": [],
   "source": [
    "import random as r\n"
   ]
  },
  {
   "cell_type": "code",
   "execution_count": 41,
   "metadata": {},
   "outputs": [
    {
     "name": "stdout",
     "output_type": "stream",
     "text": [
      "0.8735393005832639\n"
     ]
    }
   ],
   "source": [
    "print(r.random()) # --> random Float between 0 and 1"
   ]
  },
  {
   "cell_type": "code",
   "execution_count": 109,
   "metadata": {},
   "outputs": [
    {
     "name": "stdout",
     "output_type": "stream",
     "text": [
      "10.48363163946592\n"
     ]
    }
   ],
   "source": [
    "print(r.uniform(10,30)) # for 10 to 30 float is default u round it for int"
   ]
  },
  {
   "cell_type": "code",
   "execution_count": 138,
   "metadata": {},
   "outputs": [
    {
     "name": "stdout",
     "output_type": "stream",
     "text": [
      "5685\n",
      "419\n",
      "13\n"
     ]
    }
   ],
   "source": [
    "a= r.uniform(1000,9999)\n",
    "\n",
    "print(round(a))\n",
    "\n",
    "print(r.randrange(100,500))\n",
    "\n",
    "print(r.randrange(1,100,2))\n"
   ]
  },
  {
   "cell_type": "code",
   "execution_count": 132,
   "metadata": {},
   "outputs": [
    {
     "name": "stdout",
     "output_type": "stream",
     "text": [
      "[100, 101, 102, 103, 104, 105, 106, 107, 108, 109, 110, 111, 112, 113, 114, 115, 116, 117, 118, 119, 120, 121, 122, 123, 124, 125, 126, 127, 128, 129, 130, 131, 132, 133, 134, 135, 136, 137, 138, 139, 140, 141, 142, 143, 144, 145, 146, 147, 148, 149, 150, 151, 152, 153, 154, 155, 156, 157, 158, 159, 160, 161, 162, 163, 164, 165, 166, 167, 168, 169, 170, 171, 172, 173, 174, 175, 176, 177, 178, 179, 180, 181, 182, 183, 184, 185, 186, 187, 188, 189, 190, 191, 192, 193, 194, 195, 196, 197, 198, 199, 200, 201, 202, 203, 204, 205, 206, 207, 208, 209, 210, 211, 212, 213, 214, 215, 216, 217, 218, 219, 220, 221, 222, 223, 224, 225, 226, 227, 228, 229, 230, 231, 232, 233, 234, 235, 236, 237, 238, 239, 240, 241, 242, 243, 244, 245, 246, 247, 248, 249, 250, 251, 252, 253, 254, 255, 256, 257, 258, 259, 260, 261, 262, 263, 264, 265, 266, 267, 268, 269, 270, 271, 272, 273, 274, 275, 276, 277, 278, 279, 280, 281, 282, 283, 284, 285, 286, 287, 288, 289, 290, 291, 292, 293, 294, 295, 296, 297, 298, 299, 300, 301, 302, 303, 304, 305, 306, 307, 308, 309, 310, 311, 312, 313, 314, 315, 316, 317, 318, 319, 320, 321, 322, 323, 324, 325, 326, 327, 328, 329, 330, 331, 332, 333, 334, 335, 336, 337, 338, 339, 340, 341, 342, 343, 344, 345, 346, 347, 348, 349, 350, 351, 352, 353, 354, 355, 356, 357, 358, 359, 360, 361, 362, 363, 364, 365, 366, 367, 368, 369, 370, 371, 372, 373, 374, 375, 376, 377, 378, 379, 380, 381, 382, 383, 384, 385, 386, 387, 388, 389, 390, 391, 392, 393, 394, 395, 396, 397, 398, 399, 400, 401, 402, 403, 404, 405, 406, 407, 408, 409, 410, 411, 412, 413, 414, 415, 416, 417, 418, 419, 420, 421, 422, 423, 424, 425, 426, 427, 428, 429, 430, 431, 432, 433, 434, 435, 436, 437, 438, 439, 440, 441, 442, 443, 444, 445, 446, 447, 448, 449, 450, 451, 452, 453, 454, 455, 456, 457, 458, 459, 460, 461, 462, 463, 464, 465, 466, 467, 468, 469, 470, 471, 472, 473, 474, 475, 476, 477, 478, 479, 480, 481, 482, 483, 484, 485, 486, 487, 488, 489, 490, 491, 492, 493, 494, 495, 496, 497, 498, 499]\n"
     ]
    }
   ],
   "source": [
    "print(list(range(100,500)))"
   ]
  },
  {
   "cell_type": "code",
   "execution_count": 153,
   "metadata": {},
   "outputs": [
    {
     "name": "stdout",
     "output_type": "stream",
     "text": [
      "y0%9ay\n"
     ]
    }
   ],
   "source": [
    "### IMP CODE GENERATON ###\n",
    "\n",
    "refer_code = \"abcdefghijklmnopqrstuvwxyz~!@#$%^&*()_0123456789\"\n",
    "refer = \"\"\n",
    "for i in range(6):\n",
    "    refer += r.choice(refer_code)\n",
    "print(refer)"
   ]
  },
  {
   "cell_type": "code",
   "execution_count": 158,
   "metadata": {},
   "outputs": [
    {
     "name": "stdout",
     "output_type": "stream",
     "text": [
      "[1, 2, 3, 4, 5, 6, 7, 8, 9, 10, 11, 12, 13, 14, 15, 16, 17, 18, 19, 20, 21, 22, 23, 24, 25, 26, 27, 28, 29, 30, 31, 32, 33, 34, 35, 36, 37, 38, 39, 40, 41, 42, 43, 44, 45, 46, 47, 48, 49, 50, 51, 52]\n",
      "None\n",
      "[22, 49, 46, 48, 41, 40, 4, 23, 35, 3, 45, 2, 11, 28, 12, 26, 39, 6, 5, 24, 38, 47, 43, 10, 14, 13, 30, 17, 51, 25, 44, 42, 15, 31, 36, 34, 19, 50, 37, 16, 1, 18, 32, 9, 29, 8, 21, 20, 52, 7, 33, 27]\n"
     ]
    }
   ],
   "source": [
    "# shuffle Function\n",
    "\n",
    "card = list(range(1,53))\n",
    "print(card)\n",
    "\n",
    "print(r.shuffle(card))\n",
    "\n",
    "r.shuffle(card) ###########  actual card got changed returns none on direct print\n",
    "print(card)"
   ]
  },
  {
   "cell_type": "code",
   "execution_count": 169,
   "metadata": {},
   "outputs": [
    {
     "name": "stdout",
     "output_type": "stream",
     "text": [
      "0.5811521325045647\n"
     ]
    }
   ],
   "source": [
    "# SEED Function\n",
    "\n",
    "# Seed FUnction Reproduce Some Random No Every Time\n",
    "# Seed Function USES HASH VALUE to generate a Random No \n",
    "r.seed(101)      \n",
    "\n",
    "print(r.random())"
   ]
  },
  {
   "cell_type": "code",
   "execution_count": 176,
   "metadata": {},
   "outputs": [],
   "source": [
    "# Lottery System\n",
    "# Enter Name --> Lokesh\n",
    "# seed(\"Lokesh\")\n",
    "\n",
    "# r.randrange (10000,50000)\n",
    "\n",
    "#10 20 --> 1 Cr\n",
    "#20 30 --> 50 lac\n",
    "#30 40 --> 20 Lac\n",
    "#40 50 --> 100 Rs"
   ]
  },
  {
   "cell_type": "code",
   "execution_count": null,
   "metadata": {},
   "outputs": [],
   "source": [
    "name= input(\"Enter Your Name\")\n",
    "\n",
    "r.seed(name)\n",
    "\n",
    "print(name)\n",
    "\n",
    "price=r.randrange (10000,50000)\n",
    "\n",
    "if( price in range(10000,20000)):\n",
    "    print(\"You Won 1 Cr. Nusta Paisa\")\n",
    "\n",
    "if( price in range(20001,30000)):\n",
    "    print(\"You Won 50 Lac. Thode paise mala Pan dya\")\n",
    "   \n",
    "if( price in range(30001,40000)):\n",
    "    print(\"You Won 20 Lac. Keep It Up\")\n",
    "   \n",
    "if( price in range(40001,50000)):\n",
    "    print(\"You Won one two three Fakt hundred rupees .\")\n"
   ]
  },
  {
   "cell_type": "code",
   "execution_count": null,
   "metadata": {},
   "outputs": [],
   "source": [
    "# string\n",
    "# crud operation\n",
    "# function\n",
    "# methods"
   ]
  },
  {
   "cell_type": "code",
   "execution_count": 34,
   "metadata": {},
   "outputs": [
    {
     "name": "stdout",
     "output_type": "stream",
     "text": [
      "hello world\n",
      "o\n",
      "o w\n",
      "lo world\n",
      "hello w\n",
      "hello world\n",
      "hlowrd\n",
      "llo wor\n",
      "ello wor\n",
      "ello wor\n",
      "ello world\n",
      "hello worl\n",
      "dlrow olleh\n",
      "\n"
     ]
    }
   ],
   "source": [
    "# Create \n",
    "\n",
    "# Index      0    1     2     3     4     5     6     7     8     9     10\n",
    "# String     h    e     l     l     o     _     w     o     r     l      d\n",
    "# Index    -11  -10    -9    -8    -7    -6    -5    -4    -3    -2     -1\n",
    "\n",
    "a = \"hello world\"\n",
    "print(a)\n",
    "\n",
    "print(a[4])\n",
    "print(a[4:7])\n",
    "print(a[3:])\n",
    "print(a[:7])\n",
    "print(a[:])\n",
    "print(a[::2])\n",
    "\n",
    "print(a[2:-2])\n",
    "print(a[-10:9])\n",
    "print(a[-10:-2])\n",
    "print(a[-10:])\n",
    "print(a[:-1])\n",
    "print(a[::-1])\n",
    "print(a[-2:-10])"
   ]
  },
  {
   "cell_type": "code",
   "execution_count": 33,
   "metadata": {},
   "outputs": [
    {
     "name": "stdout",
     "output_type": "stream",
     "text": [
      "dlrow oll\n",
      "el ol\n",
      "el ol\n"
     ]
    }
   ],
   "source": [
    "# Index      0    1     2     3     4     5     6     7     8     9     10\n",
    "# String     h    e     l     l     o     _     w     o     r     l      d\n",
    "# Index    -11  -10    -9    -8    -7    -6    -5    -4    -3    -2     -1\n",
    "\n",
    "\n",
    "print(a[10:-10:-1])\n",
    "\n",
    "print(a[1:10:2])\n",
    "print(a[-10:-1:2])"
   ]
  },
  {
   "cell_type": "code",
   "execution_count": 38,
   "metadata": {},
   "outputs": [
    {
     "name": "stdout",
     "output_type": "stream",
     "text": [
      "dlrow olleh\n",
      "drwolh\n",
      "o\n",
      "hlowrd\n",
      "h\n"
     ]
    }
   ],
   "source": [
    "# Index      0    1     2     3     4     5     6     7     8     9     10\n",
    "# String     h    e     l     l     o     _     w     o     r     l      d\n",
    "# Index    -11  -10    -9    -8    -7    -6    -5    -4    -3    -2     -1\n",
    "\n",
    "\n",
    "print(a[::-1])\n",
    "print(a[::-1][::2])\n",
    "\n",
    "print(a[::-1][::2][3])\n",
    "print(a[::-1][::2][::-1])\n",
    "print(a[::2][::3][0])\n"
   ]
  },
  {
   "cell_type": "code",
   "execution_count": 40,
   "metadata": {},
   "outputs": [
    {
     "ename": "TypeError",
     "evalue": "'str' object does not support item assignment",
     "output_type": "error",
     "traceback": [
      "\u001b[1;31m---------------------------------------------------------------------------\u001b[0m",
      "\u001b[1;31mTypeError\u001b[0m                                 Traceback (most recent call last)",
      "\u001b[1;32m<ipython-input-40-a83befcbc980>\u001b[0m in \u001b[0;36m<module>\u001b[1;34m\u001b[0m\n\u001b[0;32m      2\u001b[0m \u001b[1;31m# update\u001b[0m\u001b[1;33m\u001b[0m\u001b[1;33m\u001b[0m\u001b[1;33m\u001b[0m\u001b[0m\n\u001b[0;32m      3\u001b[0m \u001b[1;33m\u001b[0m\u001b[0m\n\u001b[1;32m----> 4\u001b[1;33m \u001b[0ma\u001b[0m\u001b[1;33m[\u001b[0m\u001b[1;36m0\u001b[0m\u001b[1;33m]\u001b[0m\u001b[1;33m=\u001b[0m\u001b[1;34m\"w\"\u001b[0m\u001b[1;33m\u001b[0m\u001b[1;33m\u001b[0m\u001b[0m\n\u001b[0m\u001b[0;32m      5\u001b[0m \u001b[0mprint\u001b[0m\u001b[1;33m(\u001b[0m\u001b[0ma\u001b[0m\u001b[1;33m)\u001b[0m  \u001b[1;31m# read error\u001b[0m\u001b[1;33m\u001b[0m\u001b[1;33m\u001b[0m\u001b[0m\n\u001b[0;32m      6\u001b[0m \u001b[1;33m\u001b[0m\u001b[0m\n",
      "\u001b[1;31mTypeError\u001b[0m: 'str' object does not support item assignment"
     ]
    }
   ],
   "source": [
    "# read\n",
    "# update\n",
    "\n",
    "a[0]=\"w\"\n",
    "print(a)  # read error\n",
    "\n",
    "# delete string\n",
    "# It will Delete Value Inside VAriable As well As Flush Out Memory"
   ]
  },
  {
   "cell_type": "code",
   "execution_count": 53,
   "metadata": {},
   "outputs": [
    {
     "name": "stdout",
     "output_type": "stream",
     "text": [
      "hello world\n",
      "HELLO WORLD\n",
      "heLLO WORLD\n",
      "False\n",
      "False\n",
      "Hello World\n",
      "False\n",
      "True\n",
      "HEllo world\n"
     ]
    }
   ],
   "source": [
    "# function and methods \n",
    "#cases \n",
    "\n",
    "a=\"HEllo world\"          # Data Is Immutable then cant update data without assigning it\n",
    "b=\"Hello World\"\n",
    "\n",
    "print(a.lower())         # We cant update data so we are using method and function inside print for immutable\n",
    "print(a.upper())         # E.g such as list are mutable we cant use them in print cz we can chnge their data and print\n",
    "\n",
    "print(a.swapcase())      # List & Dir are mutable\n",
    "\n",
    "print(a.islower())       # String & Tuple Are Immutable\n",
    "print(a.isupper())\n",
    "\n",
    "print(a.title())         # this current line operation doesn't change original data but \n",
    "\n",
    "print(a.istitle())       # We Have to always assign to change list and directory data\n",
    "print(b.istitle())\n",
    "\n",
    "print(a)\n"
   ]
  },
  {
   "cell_type": "code",
   "execution_count": 74,
   "metadata": {},
   "outputs": [
    {
     "name": "stdout",
     "output_type": "stream",
     "text": [
      "True\n",
      "True\n",
      "False\n",
      "False\n",
      "True\n",
      "++++hello world+++++\n",
      "hello world\n",
      "hello world.........\n",
      ".........hello world\n"
     ]
    }
   ],
   "source": [
    "\n",
    "\n",
    "# Index      0    1     2     3     4     5     6     7     8     9     10\n",
    "# String     h    e     l     l     o     _     w     o     r     l      d\n",
    "# Index    -11  -10    -9    -8    -7    -6    -5    -4    -3    -2     -1\n",
    "\n",
    "a= \"hello world\"\n",
    "\n",
    "print(a.startswith(\"h\"))\n",
    "print(a.startswith(\"hello\"))\n",
    "print(a.startswith(\"Hello\"))\n",
    "\n",
    "print(a.endswith(\"hello\"))\n",
    "print(a.endswith(\"world\"))\n",
    "\n",
    "print(a.center(20,\"+\"))\n",
    "print(a.center(8,\"+\"))\n",
    "\n",
    "print(a.ljust(20,\".\"))\n",
    "print(a.rjust(20,\".\"))"
   ]
  },
  {
   "cell_type": "code",
   "execution_count": null,
   "metadata": {},
   "outputs": [],
   "source": [
    "# function and methods \n",
    "# Misc\n",
    "\n",
    "# Index      0    1     2     3     4     5     6     7     8     9     10\n",
    "# String     h    e     l     l     o     _     w     o     r     l      d\n",
    "# Index    -11  -10    -9    -8    -7    -6    -5    -4    -3    -2     -1\n",
    "\n",
    "a= \"hello world\"\n",
    "\n",
    "a=\"-\".join(a)              # delimitor.join(actual_data) #actual_data \n",
    "print(a)\n",
    "\n",
    "a=a.split(\"-\")             #split will always return list\n",
    "print(a)\n",
    "\n",
    "a=\"\".join(a)\n",
    "print(a)"
   ]
  },
  {
   "cell_type": "code",
   "execution_count": 6,
   "metadata": {},
   "outputs": [
    {
     "name": "stdout",
     "output_type": "stream",
     "text": [
      "Enter No 10 digit 1234567890\n",
      "******7890\n"
     ]
    }
   ],
   "source": [
    "number=input(\"Enter No 10 digit \")\n",
    "print(number[6:].rjust(10,\"*\"))"
   ]
  },
  {
   "cell_type": "code",
   "execution_count": null,
   "metadata": {},
   "outputs": [],
   "source": [
    "\n"
   ]
  },
  {
   "cell_type": "raw",
   "metadata": {},
   "source": [
    "# strip\n",
    "a = \"hello world\"\n",
    "a.strip()\n",
    "a.lstrip()\n",
    "a.rstrip()\n"
   ]
  },
  {
   "cell_type": "code",
   "execution_count": 17,
   "metadata": {},
   "outputs": [
    {
     "data": {
      "text/plain": [
       "6"
      ]
     },
     "execution_count": 17,
     "metadata": {},
     "output_type": "execute_result"
    }
   ],
   "source": [
    "# search and replace\n",
    "a= \"hello world\"\n",
    "#a.find(\"world\")                # find will give index position found less\n",
    "a.index(\"world\")                # find gives -1 on Not Found AND index will raise the error\n",
    "\n"
   ]
  },
  {
   "cell_type": "code",
   "execution_count": 18,
   "metadata": {},
   "outputs": [
    {
     "data": {
      "text/plain": [
       "3"
      ]
     },
     "execution_count": 18,
     "metadata": {},
     "output_type": "execute_result"
    }
   ],
   "source": [
    "#count\n",
    "\n",
    "a= \"hello world\"\n",
    "a.count(\"l\")\n"
   ]
  },
  {
   "cell_type": "code",
   "execution_count": 41,
   "metadata": {},
   "outputs": [
    {
     "name": "stdout",
     "output_type": "stream",
     "text": [
      "hezlo world\n",
      "heylo world\n",
      "hello world\n"
     ]
    }
   ],
   "source": [
    "# Replace\n",
    "#replace(old,new,occurance)\n",
    "\n",
    "a= \"hello world\"\n",
    "a.replace(\"world\",\"python\")\n",
    "\n",
    "print(a.replace(\"l\",\"z\",1))         #//temporary\n",
    "print(a.replace(\"l\",\"y\",1))\n",
    "\n",
    "print(a)\n"
   ]
  },
  {
   "cell_type": "code",
   "execution_count": 52,
   "metadata": {},
   "outputs": [
    {
     "name": "stdout",
     "output_type": "stream",
     "text": [
      "['h', 'e', 'l', 'l', 'o', ' ', 'w', 'o', 'r', 'l', 'd']\n",
      "['l', 'o', ' ', 'w']\n",
      "['h', 'e', 'l', 'l', 'o', ' ', 'w', 'o', 'r', 'l', 'd']\n",
      "['h', 'e', 'l', [1, 2, 3, 4, 5, 6], 'o', ' ', 'w', 'o', 'r', 'l', 'd']\n",
      "['h', 'e', 'l', 1, 2, 3, 4, 5, 'o', ' ', 'w', 'o', 'r', 'l', 'd']\n",
      "['h', 'e', 'l', 1, 2, 'r', 'l', 'd']\n"
     ]
    }
   ],
   "source": [
    "# Index      0    1     2     3     4     5     6     7     8     9     10\n",
    "# String     h    e     l     l     o     _     w     o     r     l      d\n",
    "# Index    -11  -10    -9    -8    -7    -6    -5    -4    -3    -2     -1\n",
    "\n",
    "\n",
    "# CRUD on list\n",
    "\n",
    "a=list(\"hello world\")\n",
    "print(list(a))\n",
    "\n",
    "print(a[3:7])\n",
    "\n",
    "# Scenario 1 #fix index and fix data --> Data will overwrite the index position\n",
    "a=list(\"hello world\")\n",
    "\n",
    "#a[3]=\"python\"\n",
    "print(a)\n",
    "\n",
    "a[3]=[1,2,3,4,5,6]\n",
    "print(a)\n",
    "\n",
    "#Scenario 2 #less index and more data so data gets pushed \n",
    "a=list(\"hello world\")\n",
    "\n",
    "a[3:4]=[1,2,3,4,5]\n",
    "print(a)\n",
    "\n",
    "#Scenario 3 # More index present and less data to replace then data gets clipped (Udd jata hai)\n",
    "a=list(\"hello world\")\n",
    "\n",
    "a[3:8]=[1,2]\n",
    "print(a)"
   ]
  },
  {
   "cell_type": "code",
   "execution_count": 59,
   "metadata": {},
   "outputs": [
    {
     "name": "stdout",
     "output_type": "stream",
     "text": [
      "['h', 'e', 'l', 'l', 'o', ' ', 'w', 'o', 'r', 'l', 'd']\n",
      "['h', 'e', 'l', 'o', 'r', 'l', 'd']\n"
     ]
    },
    {
     "ename": "NameError",
     "evalue": "name 'a' is not defined",
     "output_type": "error",
     "traceback": [
      "\u001b[1;31m---------------------------------------------------------------------------\u001b[0m",
      "\u001b[1;31mNameError\u001b[0m                                 Traceback (most recent call last)",
      "\u001b[1;32m<ipython-input-59-143cf63d131e>\u001b[0m in \u001b[0;36m<module>\u001b[1;34m\u001b[0m\n\u001b[0;32m      9\u001b[0m \u001b[1;33m\u001b[0m\u001b[0m\n\u001b[0;32m     10\u001b[0m \u001b[1;32mdel\u001b[0m\u001b[1;33m(\u001b[0m\u001b[0ma\u001b[0m\u001b[1;33m)\u001b[0m\u001b[1;33m\u001b[0m\u001b[1;33m\u001b[0m\u001b[0m\n\u001b[1;32m---> 11\u001b[1;33m \u001b[0mprint\u001b[0m\u001b[1;33m(\u001b[0m\u001b[0ma\u001b[0m\u001b[1;33m)\u001b[0m  \u001b[1;31m# will throw error cz list is deleted\u001b[0m\u001b[1;33m\u001b[0m\u001b[1;33m\u001b[0m\u001b[0m\n\u001b[0m",
      "\u001b[1;31mNameError\u001b[0m: name 'a' is not defined"
     ]
    }
   ],
   "source": [
    "# Delete\n",
    "a=list(\"hello world\")\n",
    "print(a)\n",
    "\n",
    "del a[3]\n",
    "del a[3:6]\n",
    "\n",
    "print(a)\n",
    "\n",
    "del(a)\n",
    "print(a)  # will throw error cz list is deleted"
   ]
  },
  {
   "cell_type": "code",
   "execution_count": 63,
   "metadata": {},
   "outputs": [
    {
     "name": "stdout",
     "output_type": "stream",
     "text": [
      "['h', 'e', 'l', 'l', 'o', ' ', 'w', 'o', 'r', 'l', 'd', 'hello']\n",
      "[]\n"
     ]
    }
   ],
   "source": [
    "# Methods\n",
    "\n",
    "a=list(\"hello world\")\n",
    "a.append(\"hello\")       #appends value at end\n",
    "print(a)\n",
    "\n",
    "a.clear()\n",
    "print(a)"
   ]
  },
  {
   "cell_type": "code",
   "execution_count": 65,
   "metadata": {},
   "outputs": [
    {
     "name": "stdout",
     "output_type": "stream",
     "text": [
      "['h', 'e', 'l', 'python', 'o', ' ', 'w', 'o', 'r', 'l', 'd']\n",
      "['h', 'e', 'l', 'python', 'o', ' ', 'w', 'o', 'r', 'l', 'd']\n",
      "['h', 'e', 'l', 'l', 'o', ' ', 'w', 'o', 'r', 'l', 'd']\n"
     ]
    }
   ],
   "source": [
    "a= list(\"hello world\")\n",
    "b=a\n",
    "\n",
    "c=a.copy()\n",
    "\n",
    "a[3]=\"python\"\n",
    "\n",
    "print(a)\n",
    "print(b)\n",
    "print(c)"
   ]
  },
  {
   "cell_type": "code",
   "execution_count": 68,
   "metadata": {},
   "outputs": [
    {
     "name": "stdout",
     "output_type": "stream",
     "text": [
      "['h', 'e', 'l', 'l', 'o', ' ', 'w', 'o', 'r', 'l', 'd', 'red', 'green', 'yellow']\n"
     ]
    }
   ],
   "source": [
    "a= list(\"hello world\")\n",
    "a.count(\"l\")\n",
    "\n",
    "list2=[\"red\",\"green\",\"yellow\"]\n",
    "a.extend(list2)                   # Extends means Adds From End \n",
    "print(a)"
   ]
  },
  {
   "cell_type": "code",
   "execution_count": null,
   "metadata": {},
   "outputs": [],
   "source": []
  },
  {
   "cell_type": "code",
   "execution_count": 95,
   "metadata": {},
   "outputs": [
    {
     "name": "stdout",
     "output_type": "stream",
     "text": [
      "2\n",
      "['h', 'e', 'l', 'l', 'python', 'o', ' ', 'w', 'o', 'r', 'l', 'd']\n",
      "d\n",
      "['h', 'e', 'l', 'python', 'o', ' ', 'w', 'o', 'r', 'l'] remove last occurance\n",
      "['l', 'r', 'o', 'w', ' ', 'o', 'python', 'l', 'e', 'h']Reverse List\n",
      "['w', 'r', 'python', 'o', 'o', 'l', 'l', 'h', 'e', ' ']Reverse Sort\n",
      "[' ', 'e', 'h', 'l', 'l', 'o', 'o', 'python', 'r', 'w']Asc Sort\n"
     ]
    }
   ],
   "source": [
    "a = list(\"hello world\")\n",
    "print(a.index(\"l\"))\n",
    "\n",
    "a.insert(4,\"python\")             #Inserts Element At Defined Position\n",
    "print(a)\n",
    "\n",
    "print(a.pop())                  #pops last element\n",
    "\n",
    "a.remove(\"l\")\n",
    "print(f\"{a} remove last occurance\")            #removes 1st occurance\n",
    "\n",
    "a.reverse()\n",
    "print(f\"{a}Reverse List\")            #Reverses List\n",
    "\n",
    "a.sort(reverse=True)   #Sorts in reverse order\n",
    "print(f\"{a}Reverse Sort\")\n",
    "\n",
    "a.sort()\n",
    "print(f\"{a}Asc Sort\")"
   ]
  },
  {
   "cell_type": "code",
   "execution_count": 99,
   "metadata": {},
   "outputs": [
    {
     "name": "stdout",
     "output_type": "stream",
     "text": [
      "Enter nameDarshan\n",
      "Enter StdTE\n",
      "ENter ADdressChunabhatti\n",
      "Enter Roll No19\n",
      "Enter Pin400022\n",
      "ENter Landmarkchup\n",
      "{'name': 'Darshan', 'std': 'TE', 'Address': {'pincode': '400022', 'landmark': 'chup'}, 'roll_no': '19'}\n"
     ]
    }
   ],
   "source": [
    "#dict\n",
    "#CRUD\n",
    "# CREATE\n",
    "dict1 ={\n",
    "    \"name\":input(\"Enter name\"),\n",
    "    \"std\":input(\"Enter Std\"),\n",
    "    \"Address\":input(\"ENter ADdress\"),\n",
    "    \"roll_no\":input(\"Enter Roll No\"),\n",
    "    \"Address\":{\n",
    "        \"pincode\":input(\"Enter Pin\"),\n",
    "        \"landmark\":input(\"ENter Landmark\"),\n",
    "        \n",
    "    }\n",
    "}\n",
    "print(dict1)"
   ]
  },
  {
   "cell_type": "code",
   "execution_count": 101,
   "metadata": {},
   "outputs": [
    {
     "name": "stdout",
     "output_type": "stream",
     "text": [
      "Darshan\n",
      "400022\n"
     ]
    }
   ],
   "source": [
    "# Read Dict\n",
    "\n",
    "print(dict1[\"name\"])\n",
    "print(dict1['Address']['pincode'])"
   ]
  },
  {
   "cell_type": "code",
   "execution_count": 105,
   "metadata": {},
   "outputs": [
    {
     "name": "stdout",
     "output_type": "stream",
     "text": [
      "{'name': 'rajesh', 'std': 'TE', 'Address': {'pincode': '400022', 'landmark': 'chup'}, 'roll_no': '19', 'landmark': 'Nahi Mahit'}\n"
     ]
    }
   ],
   "source": [
    "#update\n",
    "\n",
    "dict1['name']=\"rajesh\"\n",
    "dict1['landmark']=\"Nahi Mahit\"\n",
    "print(dict1)"
   ]
  },
  {
   "cell_type": "code",
   "execution_count": 106,
   "metadata": {},
   "outputs": [
    {
     "name": "stdout",
     "output_type": "stream",
     "text": [
      "{'name': 'rajesh', 'Address': {'pincode': '400022', 'landmark': 'chup'}, 'roll_no': '19', 'landmark': 'Nahi Mahit'}\n"
     ]
    }
   ],
   "source": [
    "# DELETE\n",
    "del dict1[\"std\"]\n",
    "print(dict1)"
   ]
  },
  {
   "cell_type": "code",
   "execution_count": 118,
   "metadata": {},
   "outputs": [],
   "source": [
    "# Methods Of Dictionaries (Hard Coded)\n",
    "\n",
    "dict1 = {\n",
    "    \"name\":\"rajesh\",\"std\":\"TE\",\"roll_no\":\"36\"\n",
    "}\n",
    "\n",
    "#print(dict1)\n",
    "\n",
    "# dict1.clear()\n",
    "# print(dict1)\n",
    "\n",
    "a=dict1\n",
    "b=dict1.copy()\n",
    "\n",
    "# dict1[\"name\"]=\"prince\"\n",
    "# print(a)\n",
    "# print(b)\n",
    "\n",
    "# list1 =['name','std','roll_no','address']\n",
    "# {}.fromkeys(list1,'NA')                       #default value is NA\n",
    "# {}.fromkeys(list1)                           #default value is none\n",
    "\n"
   ]
  },
  {
   "cell_type": "code",
   "execution_count": 126,
   "metadata": {},
   "outputs": [
    {
     "name": "stdout",
     "output_type": "stream",
     "text": [
      "rajesh\n",
      "dict_items([('name', 'rajesh'), ('std', 'TE'), ('roll_no', '36')])\n",
      "[('name', 'rajesh'), ('std', 'TE'), ('roll_no', '36')]\n",
      "{'std': 'TE', 'roll_no': '36'} DIctionary details\n"
     ]
    }
   ],
   "source": [
    "dict1 = {\n",
    "    \"name\":\"rajesh\",\"std\":\"TE\",\"roll_no\":\"36\"\n",
    "}\n",
    "\n",
    "print(dict1.get('name','NA'))                     #If name not present default value is NA\n",
    "\n",
    "print(dict1.items())                                 #Returns Key And Values In Form Of Tuple\n",
    "\n",
    "print(list(dict1.items()))                           #returns dict in a list form\n",
    "\n",
    "dict1.pop(\"name\")\n",
    "\n",
    "print(f\"{dict1} DIctionary details\")"
   ]
  },
  {
   "cell_type": "code",
   "execution_count": 127,
   "metadata": {},
   "outputs": [
    {
     "name": "stdout",
     "output_type": "stream",
     "text": [
      "{'std': 'TE', 'roll_no': '36', 'name': None}\n"
     ]
    }
   ],
   "source": [
    "dict1 = {\n",
    "    \"std\":\"TE\",\"roll_no\":\"36\"\n",
    "}\n",
    "\n",
    "dict1.setdefault(\"name\")                     # If key doesn't Exist Then Creates Key By Specified Name and Value default None\n",
    "print(dict1)"
   ]
  },
  {
   "cell_type": "code",
   "execution_count": 128,
   "metadata": {},
   "outputs": [
    {
     "name": "stdout",
     "output_type": "stream",
     "text": [
      "{'std': 'TE', 'roll_no': '36', 'name': None, 'placement': True, 'subject': ['python', 'php', 'django']}\n"
     ]
    }
   ],
   "source": [
    "dict2={\"placement\":True,\"subject\":['python','php','django']}\n",
    "dict1.update(dict2)                        #updates a dict \n",
    "print(dict1)"
   ]
  },
  {
   "cell_type": "code",
   "execution_count": null,
   "metadata": {},
   "outputs": [],
   "source": [
    "# Key Must Be Always Immutable ;\n",
    "# Value Can be mutable;\n",
    "# If a dict contains same key then it will overwrite it with last assigned value\n",
    "# Dict is Mutable\n"
   ]
  },
  {
   "cell_type": "markdown",
   "metadata": {},
   "source": [
    "## SETS"
   ]
  },
  {
   "cell_type": "code",
   "execution_count": 146,
   "metadata": {},
   "outputs": [
    {
     "name": "stdout",
     "output_type": "stream",
     "text": [
      "set()\n",
      "{87}\n",
      "{1, 2, 3, 4, 5, 6, 7, 8, 9}--Intersection\n",
      "False--Disjoint\n",
      "True--Subset\n",
      "False--Superset\n",
      "{1, 2, 3, 4, 5, 6, 7, 8, 9, 87}--Union\n",
      "{87}--Symmetric_diff\n",
      "False--Disjoint\n",
      "None--Difference Update\n"
     ]
    }
   ],
   "source": [
    "# SETS\n",
    "\n",
    "a = {1,2,3,4,5,6,7,8,9}\n",
    "b = {1,2,3,4,5,6,7,8,9,87}\n",
    "\n",
    "print(a.difference(b))\n",
    "print(b.difference(a))\n",
    "\n",
    "print(f\"{a.intersection(b)}--Intersection\")\n",
    "print(f\"{a.isdisjoint(b)}--Disjoint\")\n",
    "print(f\"{a.issubset(b)}--Subset\")\n",
    "print(f\"{a.issuperset(b)}--Superset\")\n",
    "print(f\"{a.union(b)}--Union\")\n",
    "print(f\"{a.symmetric_difference(b)}--Symmetric_diff\")\n",
    "print(f\"{a.isdisjoint(b)}--Disjoint\")\n",
    "print(f\"{a.difference_update(b)}--Difference Update\")"
   ]
  }
 ],
 "metadata": {
  "kernelspec": {
   "display_name": "Python 3",
   "language": "python",
   "name": "python3"
  },
  "language_info": {
   "codemirror_mode": {
    "name": "ipython",
    "version": 3
   },
   "file_extension": ".py",
   "mimetype": "text/x-python",
   "name": "python",
   "nbconvert_exporter": "python",
   "pygments_lexer": "ipython3",
   "version": "3.7.1"
  }
 },
 "nbformat": 4,
 "nbformat_minor": 2
}
