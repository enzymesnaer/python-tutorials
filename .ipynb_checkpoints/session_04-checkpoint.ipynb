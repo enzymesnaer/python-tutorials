{
 "cells": [
  {
   "cell_type": "markdown",
   "metadata": {},
   "source": [
    "#### Database --> ACID\n",
    "                                                --> atomicity\n",
    "                                                --> consistency\n",
    "                                                --> isolation\n",
    "                                                --> durability"
   ]
  },
  {
   "cell_type": "markdown",
   "metadata": {},
   "source": [
    "Database Programming<br>\n",
    "pymysql --> pip install pymysql<br>\n",
    "step 1) install connector(bridging between rdbms & a programming language) of db<br>\n",
    "step 2) import connector eg: import sqlite3 as sql | import pymysql as sql<br>\n",
    "step 3) db = sql.connect(ip(127.0.0.1),uname,pwd,dbname) -->for mysql<br>\n",
    "              db = sql.connect(\"signup.db\") --> for SQLite<br>\n",
    "step 4) cursor = db.cursor()<br>\n",
    "                   used for <br>\n",
    "                   a. sql execution<br>\n",
    "                   b. handling result set<br>\n",
    "step 5) sql_script = \" \"<br>\n",
    "step 6) cursor.execute(sql_script)<br>\n",
    "step 7) rowcount = cursor.rowcount(DML)<br>\n",
    "step 8) resultset = cursor.fetchall()(query) -->(to handle result set)<br>\n",
    "step 9) db.commit() -->(for every DML command)<br>\n",
    "step 10) db.rollback()<br>\n",
    "step 11) db.close()<br>"
   ]
  },
  {
   "cell_type": "code",
   "execution_count": 4,
   "metadata": {},
   "outputs": [
    {
     "name": "stdout",
     "output_type": "stream",
     "text": [
      "Requirement already satisfied: pymysql in /home/linuxplus/anaconda3/lib/python3.7/site-packages (0.9.3)\r\n"
     ]
    }
   ],
   "source": [
    "! pip install pymysql"
   ]
  },
  {
   "cell_type": "code",
   "execution_count": 6,
   "metadata": {},
   "outputs": [],
   "source": [
    "import sqlite3 as sql"
   ]
  },
  {
   "cell_type": "code",
   "execution_count": 8,
   "metadata": {},
   "outputs": [
    {
     "name": "stdout",
     "output_type": "stream",
     "text": [
      "Connection Done Successully!\n"
     ]
    },
    {
     "data": {
      "text/plain": [
       "(<sqlite3.Connection at 0x7f4864e398f0>, <sqlite3.Cursor at 0x7f4864e925e0>)"
      ]
     },
     "execution_count": 8,
     "metadata": {},
     "output_type": "execute_result"
    }
   ],
   "source": [
    "def getDBConnection():\n",
    "    try:\n",
    "        db = sql.connect(\"signup.db\")\n",
    "        cursor = db.cursor()\n",
    "    except BaseException as e:\n",
    "        print(e)\n",
    "    else:\n",
    "        print(\"Connection Done Successully!\")\n",
    "        return db,cursor\n",
    "getDBConnection()"
   ]
  },
  {
   "cell_type": "code",
   "execution_count": 11,
   "metadata": {},
   "outputs": [
    {
     "name": "stdout",
     "output_type": "stream",
     "text": [
      "Connection Done Successully!\n",
      "table signup already exists\n"
     ]
    }
   ],
   "source": [
    "def generateTable():\n",
    "    try:\n",
    "        db,cursor = getDBConnection()\n",
    "        sql_script =\"\"\"create table signup(signup_id INTEGER\n",
    "                                    PRIMARY KEY AUTOINCREMENT,\n",
    "                                    username varchar(100),\n",
    "                                    password varchar(100),\n",
    "                                    name varchar(100));\n",
    "                                    \"\"\"\n",
    "        cursor.execute(sql_script)\n",
    "    except BaseException as e:\n",
    "        print(e)\n",
    "    else:\n",
    "        print(\"Table has beeen created\")\n",
    "generateTable()"
   ]
  },
  {
   "cell_type": "code",
   "execution_count": 21,
   "metadata": {},
   "outputs": [
    {
     "name": "stdout",
     "output_type": "stream",
     "text": [
      "Connection Done Successully!\n",
      "record inserted\n"
     ]
    }
   ],
   "source": [
    "def insertIntoDB(name,username,password,tableName=\"signup\"):\n",
    "    try:\n",
    "        db,cursor = getDBConnection()\n",
    "        sql_script= f\"insert into {tableName} (name,username,password) values('{name}','{username}','{password}')\"\n",
    "        cursor.execute(sql_script)\n",
    "        db.commit()\n",
    "        rowcount = cursor.rowcount #rowcount is a variable of cursor\n",
    "    except BaseException as e:\n",
    "        db.rollback()\n",
    "        print(e)\n",
    "    else:\n",
    "        if(rowcount>0):\n",
    "            print(\"record inserted\")\n",
    "        else:\n",
    "            print(\"Record Not Inserted\")\n",
    "insertIntoDB(\"snehar\",\"snehar\",\"123456\")"
   ]
  },
  {
   "cell_type": "code",
   "execution_count": 25,
   "metadata": {},
   "outputs": [
    {
     "name": "stdout",
     "output_type": "stream",
     "text": [
      "enter your name snehar3\n",
      "enter username snehar3\n",
      "enter  password 1234567\n",
      "Connection Done Successully!\n",
      "record inserted\n"
     ]
    }
   ],
   "source": [
    "def insertIntoDB(name,username,password,tableName=\"signup\"):\n",
    "    try:\n",
    "        db,cursor = getDBConnection()\n",
    "        sql_script= f\"insert into {tableName} (name,username,password) values('{name}','{username}','{password}')\"\n",
    "        cursor.execute(sql_script)\n",
    "        db.commit()\n",
    "        rowcount = cursor.rowcount #rowcount is a variable of cursor\n",
    "    except BaseException as e:\n",
    "        db.rollback()\n",
    "        print(e)\n",
    "    else:\n",
    "        if(rowcount>0):\n",
    "            print(\"record inserted\")\n",
    "        else:\n",
    "            print(\"Record Not Inserted\")\n",
    "insertIntoDB(input(\"enter your name \"),input(\"enter username \"),input(\"enter  password \"))"
   ]
  },
  {
   "cell_type": "code",
   "execution_count": 27,
   "metadata": {},
   "outputs": [
    {
     "name": "stdout",
     "output_type": "stream",
     "text": [
      "Connection Done Successully!\n",
      "[(1, 'snehar', '123456', 'snehar'), (2, 'snehar', '123456', 'snehar'), (3, 'snehar2', '1234567', 'snehar'), (4, 'snehar3', '1234567', 'snehar3')]\n"
     ]
    }
   ],
   "source": [
    "def getAllRecords():\n",
    "    try:\n",
    "        db, cursor = getDBConnection()\n",
    "        sql_script = \"select * from signup\"\n",
    "        cursor.execute(sql_script)\n",
    "        resultset = cursor.fetchall()\n",
    "    except BaseException as e:\n",
    "        print(e)\n",
    "    else:\n",
    "        print(resultset)\n",
    "getAllRecords()"
   ]
  },
  {
   "cell_type": "markdown",
   "metadata": {},
   "source": [
    "### SQL Alchemy (ORM python package)<br>\n",
    "!pip install sql alchemy"
   ]
  },
  {
   "cell_type": "code",
   "execution_count": 31,
   "metadata": {},
   "outputs": [
    {
     "name": "stdout",
     "output_type": "stream",
     "text": [
      "connection done with mysql\n"
     ]
    },
    {
     "data": {
      "text/plain": [
       "(<pymysql.connections.Connection at 0x7f486408f9e8>,\n",
       " <pymysql.cursors.Cursor at 0x7f4864e2ddd8>)"
      ]
     },
     "execution_count": 31,
     "metadata": {},
     "output_type": "execute_result"
    }
   ],
   "source": [
    "def getDBConnection(ip=\"localhost\", uname=\"root\",password=\"\",dbname=\"python_db\",sqliteDb=\"signup.db\"):\n",
    "    try:\n",
    "        import pymysql as mysql\n",
    "        db = mysql.connect(ip,uname,password,dbname)\n",
    "        cursor = db.cursor()\n",
    "    except BaseException as e:\n",
    "        print(\"error connecting mysql\")\n",
    "        import sqlite3 as sql\n",
    "        db = sql.connect(sqliteDb)\n",
    "        cursor = db.cursor()\n",
    "        return db, cursor\n",
    "    else:\n",
    "        print(\"connection done with mysql\")\n",
    "        return db, cursor\n",
    "getDBConnection()"
   ]
  },
  {
   "cell_type": "markdown",
   "metadata": {},
   "source": [
    "# TKinter OR use PyQt5\n",
    "##### Desktop Application<br> \n",
    "TKinter --> used for Frontend development<br>\n",
    "                      important components of frontend<br>\n",
    "                              a. widgets<br>\n",
    "                              b. placement & position of widget<br>\n",
    "                              c. action or event"
   ]
  },
  {
   "cell_type": "code",
   "execution_count": 71,
   "metadata": {},
   "outputs": [],
   "source": [
    "from tkinter import messagebox as msg\n",
    "def firstPanel():\n",
    "    import tkinter as tk\n",
    "    loginPanel = tk.Tk() # will generate a panel [main code below this]\n",
    "    loginPanel.title(\"Login Screen\")\n",
    "    loginPanel.geometry(\"500x500\")\n",
    "    username_label = tk.Label(loginPanel, text=\"Username : -\", padx=20, pady=20)\n",
    "    username_label.config(font=(\"Courier\", 20))\n",
    "    username_label.grid(row=1, column=1)\n",
    "    username_entry = tk.Entry(loginPanel)\n",
    "    username_entry.grid(row=1, column=2)\n",
    "    password_label = tk.Label(loginPanel, text=\"Password : -\", padx=20, pady=20)\n",
    "    password_label.config(font=(\"Courier\", 20))\n",
    "    password_label.grid(row=2, column=1)\n",
    "    password_entry = tk.Entry(loginPanel, show=\"*\")\n",
    "    password_entry.grid(row=2, column=2)\n",
    "    def checkLogin():\n",
    "        username = username_entry.get()\n",
    "        password = password_entry.get()\n",
    "        if(username==\"admin\" and password==\"12345\"):\n",
    "            msg.showinfo(\"success\",f\"welcome {username}\")\n",
    "        else:\n",
    "            msg.showerror(\"failure\",\"wrong credential !\")\n",
    "    submit_Button = tk.Button(loginPanel,text=\"submit\", command=checkLogin)\n",
    "    submit_Button.grid(row=3,column=2,padx=40,pady=40)\n",
    "    loginPanel.mainloop() # will keep the window open [main code above this]\n",
    "firstPanel()"
   ]
  },
  {
   "cell_type": "markdown",
   "metadata": {},
   "source": [
    "### widgets<br>\n",
    "entry(panelname)<br>\n",
    "label(panelname)<br>\n",
    "button(panelname)<br>\n",
    "<br>\n",
    "grid()"
   ]
  },
  {
   "cell_type": "code",
   "execution_count": 76,
   "metadata": {},
   "outputs": [],
   "source": [
    "from tkinter import messagebox as msg\n",
    "def generateSignupPanel():\n",
    "    import tkinter as tk\n",
    "    signupPanel = tk.Tk() # will generate a panel [main code below this]\n",
    "    signupPanel.title(\"Signup Screen\")\n",
    "    signupPanel.geometry(\"500x500\")\n",
    "    username_label = tk.Label(signupPanel, text=\"Username : -\", padx=20, pady=20)\n",
    "    username_label.config(font=(\"Courier\", 20))\n",
    "    username_label.grid(row=1, column=1)\n",
    "    username_entry = tk.Entry(signupPanel)\n",
    "    username_entry.grid(row=1, column=2)\n",
    "    password_label = tk.Label(signupPanel, text=\"Password : -\", padx=20, pady=20)\n",
    "    password_label.config(font=(\"Courier\", 20))\n",
    "    password_label.grid(row=2, column=1)\n",
    "    password_entry = tk.Entry(signupPanel, show=\"*\")\n",
    "    password_entry.grid(row=2, column=2)\n",
    "    def checkSignup():\n",
    "        username = username_entry.get()\n",
    "        password = password_entry.get()\n",
    "        if(username==\"admin\" and password==\"12345\"):\n",
    "            msg.showinfo(\"success\",f\"welcome {username}\")\n",
    "        else:\n",
    "            msg.showerror(\"failure\",\"wrong credential !\")\n",
    "    submit_Button = tk.Button(signupPanel,text=\"submit\", command=checkSignup)\n",
    "    submit_Button.grid(row=3,column=2,padx=40,pady=40)\n",
    "    signupPanel.mainloop() # will keep the window open [main code above this]\n",
    "generateSignupPanel()"
   ]
  },
  {
   "cell_type": "markdown",
   "metadata": {},
   "source": [
    "pip install pyinstaller --> for windows<br>\n",
    "apt-get install python-stdeb --> for debian"
   ]
  }
 ],
 "metadata": {
  "kernelspec": {
   "display_name": "Python 3",
   "language": "python",
   "name": "python3"
  },
  "language_info": {
   "codemirror_mode": {
    "name": "ipython",
    "version": 3
   },
   "file_extension": ".py",
   "mimetype": "text/x-python",
   "name": "python",
   "nbconvert_exporter": "python",
   "pygments_lexer": "ipython3",
   "version": "3.7.1"
  }
 },
 "nbformat": 4,
 "nbformat_minor": 2
}
