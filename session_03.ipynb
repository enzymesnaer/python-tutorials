{
 "cells": [
  {
   "cell_type": "code",
   "execution_count": 4,
   "metadata": {},
   "outputs": [],
   "source": [
    "#Day 2 Assignment goes here"
   ]
  },
  {
   "cell_type": "code",
   "execution_count": 5,
   "metadata": {},
   "outputs": [
    {
     "data": {
      "text/plain": [
       "True"
      ]
     },
     "execution_count": 5,
     "metadata": {},
     "output_type": "execute_result"
    }
   ],
   "source": [
    "a = \"abcd\"\n",
    "b = \"abcg\"\n",
    "a.find(b)\n",
    "\n",
    "a = \"hello world\"\n",
    "b = \"world\"\n",
    "a.find(b)\n",
    "b in a"
   ]
  },
  {
   "cell_type": "markdown",
   "metadata": {},
   "source": [
    "# Functional Programming in Python"
   ]
  },
  {
   "cell_type": "code",
   "execution_count": 51,
   "metadata": {},
   "outputs": [],
   "source": [
    "# 1. Basic function declaration and syntax\n",
    "# 2. function with parameter\n",
    "# 3. function without parameter\n",
    "# 4. function  with default value parameter\n",
    "# 5. function with args\n",
    "# 6. function with kwargs\n",
    "#6.1. function with multiple return\n",
    "# 7. function with args and kwargs\n",
    "# 8. lambda\n",
    "# 9. map function\n",
    "#10. filter function\n",
    "#11. reduce function\n",
    "#12. zip function\n",
    "#13. enumerate function\n",
    "#14. closure or first class function\n",
    "#15. decorator"
   ]
  },
  {
   "cell_type": "markdown",
   "metadata": {},
   "source": [
    "### Function -->\n",
    "reuse |\n",
    "block of code |\n",
    "declaration or define |\n",
    "calling of function --() |\n",
    "function is object |\n",
    "function can be accessed from .py file as module\n",
    "\n",
    "### Declaration -->\n",
    "def funcName()\n",
    "\n",
    "### Calling -->\n",
    "funcName()"
   ]
  },
  {
   "cell_type": "code",
   "execution_count": 12,
   "metadata": {},
   "outputs": [],
   "source": [
    "#  function declaration and calling (syntax)\n",
    "def funcName():\n",
    "    print(\"Hello all\")"
   ]
  },
  {
   "cell_type": "code",
   "execution_count": 15,
   "metadata": {},
   "outputs": [
    {
     "name": "stdout",
     "output_type": "stream",
     "text": [
      "Hello all\n"
     ]
    }
   ],
   "source": [
    "# calling above function\n",
    "funcName()\n",
    "# if you dont use parenthesis funcName will be parsed as an object."
   ]
  },
  {
   "cell_type": "code",
   "execution_count": 18,
   "metadata": {},
   "outputs": [],
   "source": [
    "# function with parameter\n",
    "# declaration\n",
    "def add(a, b):\n",
    "    print(a+b)"
   ]
  },
  {
   "cell_type": "code",
   "execution_count": null,
   "metadata": {},
   "outputs": [
    {
     "name": "stdout",
     "output_type": "stream",
     "text": [
      "5\n"
     ]
    }
   ],
   "source": [
    "add(2,3)\n",
    "add(float(input(\"Enter first no.\")),float(input(\"Enter second no.\")))"
   ]
  },
  {
   "cell_type": "code",
   "execution_count": 2,
   "metadata": {},
   "outputs": [],
   "source": [
    "# function with default value parameter\n",
    "#declaration\n",
    "def calculator(a=1,b=1):\n",
    "    print(a+b,a-b,a*b,a/b)"
   ]
  },
  {
   "cell_type": "code",
   "execution_count": 13,
   "metadata": {},
   "outputs": [
    {
     "name": "stdout",
     "output_type": "stream",
     "text": [
      "2 0 1 1.0\n",
      "6 4 5 5.0\n",
      "6 -4 5 0.2\n",
      "8 -2 15 0.6\n",
      "6 4 5 5.0\n",
      "6.0 4.0 5.0 5.0\n"
     ]
    }
   ],
   "source": [
    "# calling default value\n",
    "calculator()\n",
    "calculator(5)\n",
    "calculator(b=5)\n",
    "calculator(b=5,a=3)\n",
    "calculator(5,)\n",
    "calculator(5.) #returns floating point values\n",
    "#calculator(,5) raises compilation error"
   ]
  },
  {
   "cell_type": "code",
   "execution_count": 24,
   "metadata": {},
   "outputs": [],
   "source": [
    "# function with args\n",
    "# function declaration\n",
    "def withArgs(*a):\n",
    "    sum = 0\n",
    "    for i in a:\n",
    "        if type(i) is int or type(i) is float:\n",
    "            sum += i\n",
    "        elif type(i) is list:\n",
    "            for j in i:\n",
    "                if type(j) is int or type(j) is float:\n",
    "                    sum += j\n",
    "    print(a)\n",
    "    print(sum)"
   ]
  },
  {
   "cell_type": "code",
   "execution_count": 26,
   "metadata": {},
   "outputs": [
    {
     "name": "stdout",
     "output_type": "stream",
     "text": [
      "(2, 23.45, [3, 4, 5, 6], {'space', 'hello'})\n",
      "43.45\n"
     ]
    }
   ],
   "source": [
    "#Calling pf args function\n",
    "withArgs(2,23.45,[3,4,5,6],{\"hello\",\"space\"})"
   ]
  },
  {
   "cell_type": "code",
   "execution_count": 28,
   "metadata": {},
   "outputs": [],
   "source": [
    "# function with kwargs\n",
    "# declaration of function\n",
    "def withKwargs(**kw):\n",
    "    print(kw)"
   ]
  },
  {
   "cell_type": "code",
   "execution_count": 32,
   "metadata": {},
   "outputs": [
    {
     "name": "stdout",
     "output_type": "stream",
     "text": [
      "{'name': 'snehar', 'std': '5', 'subject': ['java', 'php']}\n"
     ]
    }
   ],
   "source": [
    "#calling of function\n",
    "withKwargs(name=\"snehar\",std=\"5\",subject=[\"java\",\"php\"])\n",
    "#returns dictionary"
   ]
  },
  {
   "cell_type": "code",
   "execution_count": 35,
   "metadata": {},
   "outputs": [],
   "source": [
    "# function with arg and kwarg\n",
    "def withArgKwarg(*a,**b):\n",
    "    print(a)\n",
    "    print(b)\n",
    "# NOTE --> while using arg and kwarg in same function, arg should be first param."
   ]
  },
  {
   "cell_type": "code",
   "execution_count": 39,
   "metadata": {},
   "outputs": [
    {
     "name": "stdout",
     "output_type": "stream",
     "text": [
      "(1, 23, 4, 5, 6, 7, 'hello', [1, 2, 3])\n",
      "{'name': 'snehar'}\n"
     ]
    }
   ],
   "source": [
    "#calling above fn\n",
    "withArgKwarg(1,23,4,5,6,7,\"hello\",[1,2,3],name=\"snehar\")\n",
    "#below call will raise an error\n",
    "#withArgKwarg(name=\"snehar\",1,23,4,5,6,7,\"hello\",[1,2,3])"
   ]
  },
  {
   "cell_type": "code",
   "execution_count": 41,
   "metadata": {},
   "outputs": [],
   "source": [
    "# function with multiple Return\n",
    "# declaration\n",
    "def calculator(a=1, b=1):\n",
    "    return a+b, a-b, a*b, a/b, a**b\n",
    "    return (a+b, a-b, a*b, a/b, a**b)"
   ]
  },
  {
   "cell_type": "code",
   "execution_count": 43,
   "metadata": {},
   "outputs": [
    {
     "name": "stdout",
     "output_type": "stream",
     "text": [
      "7\n",
      "25\n"
     ]
    }
   ],
   "source": [
    "# calling above function\n",
    "# number of return values should be equal to number of  storage variables as shown below\n",
    "add,sub,mul,div,raise_to = calculator(5,2)\n",
    "print(add)\n",
    "print(raise_to)"
   ]
  },
  {
   "cell_type": "markdown",
   "metadata": {},
   "source": [
    "#### Lambda function \n",
    "single line function | Anonymous function | lambda function can be used with different function\n",
    "#### eg: add = lambda x,y : x+y\n",
    "variable/catch object = reserved keyword parameters : action"
   ]
  },
  {
   "cell_type": "code",
   "execution_count": 45,
   "metadata": {},
   "outputs": [],
   "source": [
    "# lambda function\n",
    "add = lambda x,y:x+y"
   ]
  },
  {
   "cell_type": "code",
   "execution_count": 47,
   "metadata": {},
   "outputs": [
    {
     "data": {
      "text/plain": [
       "8"
      ]
     },
     "execution_count": 47,
     "metadata": {},
     "output_type": "execute_result"
    }
   ],
   "source": [
    "# calling above fn\n",
    "add(3,5)"
   ]
  },
  {
   "cell_type": "code",
   "execution_count": 52,
   "metadata": {},
   "outputs": [],
   "source": [
    "incrementer = lambda x : x+1\n",
    "decrementer = lambda y : y-1"
   ]
  },
  {
   "cell_type": "code",
   "execution_count": 57,
   "metadata": {},
   "outputs": [
    {
     "data": {
      "text/plain": [
       "3"
      ]
     },
     "execution_count": 57,
     "metadata": {},
     "output_type": "execute_result"
    }
   ],
   "source": [
    "incrementer(2)"
   ]
  },
  {
   "cell_type": "code",
   "execution_count": 59,
   "metadata": {},
   "outputs": [
    {
     "data": {
      "text/plain": [
       "1"
      ]
     },
     "execution_count": 59,
     "metadata": {},
     "output_type": "execute_result"
    }
   ],
   "source": [
    "decrementer(2)"
   ]
  },
  {
   "cell_type": "markdown",
   "metadata": {},
   "source": [
    "## Map function\n",
    "takes two parameters map(function, data) | data as a list"
   ]
  },
  {
   "cell_type": "code",
   "execution_count": 66,
   "metadata": {},
   "outputs": [
    {
     "data": {
      "text/plain": [
       "['******8675', '******5475', '******9632', '******2136']"
      ]
     },
     "execution_count": 66,
     "metadata": {},
     "output_type": "execute_result"
    }
   ],
   "source": [
    "# map function\n",
    "data = [\"9898958675\",\"0215485475\",\"9632589632\",\"0147852136\"]\n",
    "bussiness_logic = lambda x:x[6:].rjust(len(x),\"*\")\n",
    "#bussiness_logic(\"9987132420\")\n",
    "map(bussiness_logic, data) # returns object so typecast it\n",
    "list(map(bussiness_logic, data))"
   ]
  },
  {
   "cell_type": "code",
   "execution_count": 70,
   "metadata": {},
   "outputs": [
    {
     "data": {
      "text/plain": [
       "[1, 4, 9, 16, 25, 36, 49, 64, 81, 100]"
      ]
     },
     "execution_count": 70,
     "metadata": {},
     "output_type": "execute_result"
    }
   ],
   "source": [
    "# squares of numbers\n",
    "data = [1,2,3,4,5,6,7,8,9,10]\n",
    "logic = lambda x : x*x\n",
    "map(logic, data)\n",
    "list(map(logic,data))"
   ]
  },
  {
   "cell_type": "code",
   "execution_count": 2,
   "metadata": {},
   "outputs": [],
   "source": [
    "def generateDict(**kw):\n",
    "    return kw"
   ]
  },
  {
   "cell_type": "code",
   "execution_count": 3,
   "metadata": {},
   "outputs": [
    {
     "name": "stdout",
     "output_type": "stream",
     "text": [
      "[{'name': 'abc', 'placement': False, 'subj': ['php', 'reactjs']}, {'name': 'abc', 'placement': True, 'subj': ['python', 'java']}, {'name': 'abc', 'placement': False, 'subj': ['php', 'reactjs']}, {'name': 'abc', 'placement': True, 'subj': ['python', 'java']}, {'name': 'abc', 'placement': False, 'subj': ['php', 'reactjs']}, {'name': 'abc', 'placement': True, 'subj': ['python', 'java']}, {'name': 'abc', 'placement': False, 'subj': ['php', 'reactjs']}, {'name': 'abc', 'placement': True, 'subj': ['python', 'java']}, {'name': 'abc', 'placement': False, 'subj': ['php', 'reactjs']}]\n"
     ]
    }
   ],
   "source": [
    "student_list = [ ]\n",
    "for i in range(1,10):\n",
    "    if i%2 == 0:\n",
    "        student_list.append(generateDict(name=\"abc\",placement=True,subj=[\"python\",\"java\"]))\n",
    "    else:\n",
    "        student_list.append(generateDict(name=\"abc\",placement=False,subj=[\"php\",\"reactjs\"]))      \n",
    "print(student_list)"
   ]
  },
  {
   "cell_type": "code",
   "execution_count": 98,
   "metadata": {},
   "outputs": [
    {
     "name": "stdout",
     "output_type": "stream",
     "text": [
      "[{'name': 'abc', 'placement': True, 'subj': ['python', 'java']}, {'name': 'abc', 'placement': True, 'subj': ['python', 'java']}, {'name': 'abc', 'placement': True, 'subj': ['python', 'java']}, {'name': 'abc', 'placement': True, 'subj': ['python', 'java']}]\n"
     ]
    }
   ],
   "source": [
    "#filter\n",
    "data = student_list\n",
    "logic = lambda x : x.get('placement')==True\n",
    "# logic = lambda x:\"java\" in x.get(\"subject\") or \"java\"\n",
    "print(list(filter(logic,data)))\n"
   ]
  },
  {
   "cell_type": "code",
   "execution_count": 7,
   "metadata": {},
   "outputs": [
    {
     "data": {
      "text/plain": [
       "[{'name': 'abc', 'placement': True, 'subj': ['python', 'java']},\n",
       " {'name': 'abc', 'placement': True, 'subj': ['python', 'java']},\n",
       " {'name': 'abc', 'placement': True, 'subj': ['python', 'java']},\n",
       " {'name': 'abc', 'placement': True, 'subj': ['python', 'java']}]"
      ]
     },
     "execution_count": 7,
     "metadata": {},
     "output_type": "execute_result"
    }
   ],
   "source": [
    "#filter\n",
    "data = student_list\n",
    "\n",
    "logic = lambda x:\"java\" in x.get(\"subj\")\n",
    "list(filter(logic,data))"
   ]
  },
  {
   "cell_type": "markdown",
   "metadata": {},
   "source": [
    "#### Reduce function\n",
    "not readily available |\n",
    "import from functools"
   ]
  },
  {
   "cell_type": "code",
   "execution_count": 4,
   "metadata": {},
   "outputs": [
    {
     "name": "stdout",
     "output_type": "stream",
     "text": [
      "10\n"
     ]
    }
   ],
   "source": [
    "data = [1,1,1,1,1,1,1,1,1,1]\n",
    "from functools import  reduce as r\n",
    "logic = lambda x,y : x+y\n",
    "print(r(logic,data))"
   ]
  },
  {
   "cell_type": "markdown",
   "metadata": {},
   "source": [
    "#### ZIP function\n",
    "club no. of lists or variables"
   ]
  },
  {
   "cell_type": "code",
   "execution_count": 17,
   "metadata": {},
   "outputs": [
    {
     "name": "stdout",
     "output_type": "stream",
     "text": [
      "[(1, 'red', 'a'), (2, 'green', 'b'), (3, 'orange', 'c'), (4, 'black', 'd')]\n"
     ]
    }
   ],
   "source": [
    "list1 = [1,2,3,4,5,6,7] #case1\n",
    "list1 = [1,2,3,4] # case2\n",
    "list2 = [\"red\",\"green\",\"orange\",\"black\",\"blue\"]\n",
    "list3 = [\"a\",\"b\",\"c\",\"d\",\"e\",\"f\"]\n",
    "print(list(zip(list1,list2,list3)))"
   ]
  },
  {
   "cell_type": "markdown",
   "metadata": {},
   "source": [
    "#### Enumerate function"
   ]
  },
  {
   "cell_type": "code",
   "execution_count": 19,
   "metadata": {},
   "outputs": [
    {
     "name": "stdout",
     "output_type": "stream",
     "text": [
      "0 1\n",
      "1 2\n",
      "2 3\n",
      "3 4\n"
     ]
    }
   ],
   "source": [
    "for index, data in enumerate(list1):\n",
    "    print(index,data)"
   ]
  },
  {
   "cell_type": "code",
   "execution_count": 21,
   "metadata": {},
   "outputs": [
    {
     "name": "stdout",
     "output_type": "stream",
     "text": [
      "[(0, 1), (1, 2), (2, 3), (3, 4)]\n"
     ]
    }
   ],
   "source": [
    "print(list(enumerate(list1)))"
   ]
  },
  {
   "cell_type": "markdown",
   "metadata": {},
   "source": [
    "#### \"AJAX uses closure\""
   ]
  },
  {
   "cell_type": "markdown",
   "metadata": {},
   "source": [
    "### Closure"
   ]
  },
  {
   "cell_type": "code",
   "execution_count": 36,
   "metadata": {},
   "outputs": [],
   "source": [
    "def wrapper(func):\n",
    "    def inner():\n",
    "        print(\"before function execution\")\n",
    "        func()\n",
    "        print(\"after function execution\")\n",
    "    return inner"
   ]
  },
  {
   "cell_type": "code",
   "execution_count": 47,
   "metadata": {},
   "outputs": [],
   "source": [
    "def printMe():\n",
    "    print(\"hello all\")"
   ]
  },
  {
   "cell_type": "code",
   "execution_count": 48,
   "metadata": {},
   "outputs": [
    {
     "name": "stdout",
     "output_type": "stream",
     "text": [
      "before function execution\n",
      "hello all\n",
      "after function execution\n"
     ]
    }
   ],
   "source": [
    "printMe = wrapper(printMe)\n",
    "printMe()\n"
   ]
  },
  {
   "cell_type": "markdown",
   "metadata": {},
   "source": [
    "##### wrapper is a function which takes function as a parameter\n",
    "##### wrapper declare a function name as inner and\n",
    "#### return inner function object"
   ]
  },
  {
   "cell_type": "markdown",
   "metadata": {},
   "source": [
    "# Decorator"
   ]
  },
  {
   "cell_type": "code",
   "execution_count": null,
   "metadata": {},
   "outputs": [],
   "source": [
    "#decorator is denoted by @\n",
    "#decorator should be above function declaration\n",
    "@wrapper # printMe = wrapper(printMe)\n",
    "def printMe():\n",
    "    print(\"hey yo!\")\n",
    "printMe() #this is now calling inner function"
   ]
  },
  {
   "cell_type": "markdown",
   "metadata": {},
   "source": [
    "###### closure vs decorator (read)\n"
   ]
  },
  {
   "cell_type": "markdown",
   "metadata": {},
   "source": [
    "javascript is a single thread application or is asynchronous --> 1000loops then print => skips loops and prints  <br>\n",
    "promises also uses closure <br>"
   ]
  },
  {
   "cell_type": "markdown",
   "metadata": {},
   "source": [
    "### Exception Handling\n",
    "https://www.pythonforbeginners.com/error-handling/exception-handling-in-python<br>\n",
    "https://www.programiz.com/python-programming/exception-handling"
   ]
  },
  {
   "cell_type": "code",
   "execution_count": 2,
   "metadata": {},
   "outputs": [],
   "source": [
    "# Exception Handling\n",
    "def firstFlow():\n",
    "    try:\n",
    "        a = input(\"Enter first number: \")\n",
    "        b = input(\"Enter second number: \")\n",
    "        c = a/b\n",
    "    except BaseException as e:\n",
    "        if input(\"Do you want to see Error(y/n)\")== \"y\":\n",
    "            print(e)\n",
    "        alternateFlow(a,b)\n",
    "    else:\n",
    "        print(f\"Division value is{c}\")"
   ]
  },
  {
   "cell_type": "code",
   "execution_count": 3,
   "metadata": {},
   "outputs": [],
   "source": [
    "def alternateFlow(a,b):\n",
    "    try:\n",
    "        a = float(a)\n",
    "        b = float(b)\n",
    "        c = a/b\n",
    "    except BaseException as e:\n",
    "        print(\"Error occured try again\")\n",
    "        firstFlow()\n",
    "    else:\n",
    "        print(f\"value of division is {c}\")"
   ]
  },
  {
   "cell_type": "code",
   "execution_count": null,
   "metadata": {},
   "outputs": [],
   "source": [
    "firstFlow()"
   ]
  },
  {
   "cell_type": "code",
   "execution_count": 4,
   "metadata": {},
   "outputs": [
    {
     "name": "stdout",
     "output_type": "stream",
     "text": [
      "34 is smaller than 45\n"
     ]
    }
   ],
   "source": [
    "# How to raise a Custom Exception\n",
    "def customException():\n",
    "    try:\n",
    "        a = 34\n",
    "        b = 45\n",
    "        if(a>b):\n",
    "            print(a)\n",
    "        else:\n",
    "            raise BaseException(f\"{a} is smaller than {b}\")\n",
    "    except BaseException as e:\n",
    "        print(e)\n",
    "customException()"
   ]
  },
  {
   "cell_type": "markdown",
   "metadata": {},
   "source": [
    "#### File Handling in Python"
   ]
  },
  {
   "cell_type": "code",
   "execution_count": 5,
   "metadata": {},
   "outputs": [],
   "source": [
    "def openOrCreateFile(filePath,mode):\n",
    "    try:\n",
    "        file = open(filePath,mode)\n",
    "    except BaseException as e:\n",
    "        print(e)\n",
    "    else:\n",
    "        return file\n",
    "    "
   ]
  },
  {
   "cell_type": "markdown",
   "metadata": {},
   "source": [
    "mode: read | write | append | write+ | append+"
   ]
  },
  {
   "cell_type": "code",
   "execution_count": 6,
   "metadata": {},
   "outputs": [
    {
     "data": {
      "text/plain": [
       "<_io.TextIOWrapper name='/home/linuxplus/Documents/python-tutorials/demo.html' mode='w+' encoding='UTF-8'>"
      ]
     },
     "execution_count": 6,
     "metadata": {},
     "output_type": "execute_result"
    }
   ],
   "source": [
    "openOrCreateFile(\"/home/linuxplus/Documents/python-tutorials/demo.html\",\"w+\")"
   ]
  },
  {
   "cell_type": "code",
   "execution_count": 7,
   "metadata": {},
   "outputs": [],
   "source": [
    "def writeOnFile(fileObject,content):\n",
    "    try:\n",
    "        fileObject.write(content)\n",
    "    except baseException as e:\n",
    "        print(e)\n",
    "    else:\n",
    "        print(\"Write operation done\")"
   ]
  },
  {
   "cell_type": "code",
   "execution_count": 8,
   "metadata": {},
   "outputs": [
    {
     "name": "stdout",
     "output_type": "stream",
     "text": [
      "Write operation done\n"
     ]
    }
   ],
   "source": [
    "fileObject = openOrCreateFile(\"/home/linuxplus/Documents/python-tutorials/demo.html\",\"w+\")\n",
    "writeOnFile(fileObject,\"<marquee><h1>BREAKING NEWS</h1></marquee>\")\n",
    "fileObject.close()"
   ]
  },
  {
   "cell_type": "code",
   "execution_count": 9,
   "metadata": {},
   "outputs": [
    {
     "name": "stdout",
     "output_type": "stream",
     "text": [
      "Write operation done\n"
     ]
    }
   ],
   "source": [
    "fileObject = openOrCreateFile(\"/home/linuxplus/Documents/python-tutorials/demo.py\",\"w+\")\n",
    "writeOnFile(fileObject,\"print('hello all from file!')\")\n",
    "fileObject.close()"
   ]
  },
  {
   "cell_type": "markdown",
   "metadata": {},
   "source": [
    "# JUPYTER NOTEBOOK as bash <br>\n",
    "Use \" ! \""
   ]
  },
  {
   "cell_type": "code",
   "execution_count": 10,
   "metadata": {},
   "outputs": [
    {
     "name": "stdout",
     "output_type": "stream",
     "text": [
      "Day_3_python.ipynb  demo.html  demo.py\treadme.txt  session_01.ipynb\r\n"
     ]
    }
   ],
   "source": [
    "!ls"
   ]
  },
  {
   "cell_type": "code",
   "execution_count": 11,
   "metadata": {},
   "outputs": [
    {
     "name": "stdout",
     "output_type": "stream",
     "text": [
      "hello all from file!\r\n"
     ]
    }
   ],
   "source": [
    "!python demo.py"
   ]
  },
  {
   "cell_type": "code",
   "execution_count": 12,
   "metadata": {},
   "outputs": [],
   "source": [
    "def readFromFile(fileObj):\n",
    "    try:\n",
    "        content = fileObject.read() # --> complete content\n",
    "        #fileObject.readLines() --> list of lines\n",
    "        #fileObject.readLine() --> one single line\n",
    "    except BaseException as e:\n",
    "        print(e)\n",
    "    else:\n",
    "        return content"
   ]
  },
  {
   "cell_type": "code",
   "execution_count": 13,
   "metadata": {},
   "outputs": [
    {
     "data": {
      "text/plain": [
       "\"print('hello all from file!')\""
      ]
     },
     "execution_count": 13,
     "metadata": {},
     "output_type": "execute_result"
    }
   ],
   "source": [
    "fileObject = openOrCreateFile(\"/home/linuxplus/Documents/python-tutorials/demo.py\",\"r\")\n",
    "readFromFile(fileObject)"
   ]
  },
  {
   "cell_type": "code",
   "execution_count": 25,
   "metadata": {},
   "outputs": [
    {
     "data": {
      "text/html": [
       "<div>\n",
       "<style scoped>\n",
       "    .dataframe tbody tr th:only-of-type {\n",
       "        vertical-align: middle;\n",
       "    }\n",
       "\n",
       "    .dataframe tbody tr th {\n",
       "        vertical-align: top;\n",
       "    }\n",
       "\n",
       "    .dataframe thead th {\n",
       "        text-align: right;\n",
       "    }\n",
       "</style>\n",
       "<table border=\"1\" class=\"dataframe\">\n",
       "  <thead>\n",
       "    <tr style=\"text-align: right;\">\n",
       "      <th></th>\n",
       "      <th>Start Date</th>\n",
       "      <th>Start Time</th>\n",
       "      <th>End Date</th>\n",
       "      <th>End Time</th>\n",
       "      <th>Event Title</th>\n",
       "      <th>All Day Event</th>\n",
       "      <th>No End Time</th>\n",
       "      <th>Event Description</th>\n",
       "      <th>Contact</th>\n",
       "      <th>Contact Email</th>\n",
       "      <th>Contact Phone</th>\n",
       "      <th>Location</th>\n",
       "      <th>Category</th>\n",
       "      <th>Mandatory</th>\n",
       "      <th>Registration</th>\n",
       "      <th>Maximum</th>\n",
       "      <th>Last Date To Register</th>\n",
       "    </tr>\n",
       "  </thead>\n",
       "  <tbody>\n",
       "    <tr>\n",
       "      <th>0</th>\n",
       "      <td>9/5/2011</td>\n",
       "      <td>3:00:00 PM</td>\n",
       "      <td>9/5/2011</td>\n",
       "      <td>NaN</td>\n",
       "      <td>Social Studies Dept. Meeting</td>\n",
       "      <td>N</td>\n",
       "      <td>Y</td>\n",
       "      <td>Department meeting</td>\n",
       "      <td>Chris Gallagher</td>\n",
       "      <td>cgallagher@schoolwires.com</td>\n",
       "      <td>814-555-5179</td>\n",
       "      <td>High School</td>\n",
       "      <td>2</td>\n",
       "      <td>N</td>\n",
       "      <td>N</td>\n",
       "      <td>25</td>\n",
       "      <td>9/2/2011</td>\n",
       "    </tr>\n",
       "    <tr>\n",
       "      <th>1</th>\n",
       "      <td>9/5/2011</td>\n",
       "      <td>6:00:00 PM</td>\n",
       "      <td>9/5/2011</td>\n",
       "      <td>8:00:00 PM</td>\n",
       "      <td>Curriculum Meeting</td>\n",
       "      <td>N</td>\n",
       "      <td>N</td>\n",
       "      <td>Curriculum Meeting</td>\n",
       "      <td>Chris Gallagher</td>\n",
       "      <td>cgallagher@schoolwires.com</td>\n",
       "      <td>814-555-5179</td>\n",
       "      <td>High School</td>\n",
       "      <td>2</td>\n",
       "      <td>N</td>\n",
       "      <td>N</td>\n",
       "      <td>25</td>\n",
       "      <td>9/2/2011</td>\n",
       "    </tr>\n",
       "  </tbody>\n",
       "</table>\n",
       "</div>"
      ],
      "text/plain": [
       "  Start Date   Start Time  End Date    End Time                  Event Title   \\\n",
       "0    9/5/2011  3:00:00 PM  9/5/2011         NaN  Social Studies Dept. Meeting   \n",
       "1    9/5/2011  6:00:00 PM  9/5/2011  8:00:00 PM            Curriculum Meeting   \n",
       "\n",
       "  All Day Event No End Time   Event Description         Contact   \\\n",
       "0             N           Y  Department meeting  Chris Gallagher   \n",
       "1             N           N  Curriculum Meeting  Chris Gallagher   \n",
       "\n",
       "                Contact Email Contact Phone     Location  Category Mandatory  \\\n",
       "0  cgallagher@schoolwires.com  814-555-5179  High School         2         N   \n",
       "1  cgallagher@schoolwires.com  814-555-5179  High School         2         N   \n",
       "\n",
       "  Registration  Maximum Last Date To Register  \n",
       "0            N       25              9/2/2011  \n",
       "1            N       25              9/2/2011  "
      ]
     },
     "execution_count": 25,
     "metadata": {},
     "output_type": "execute_result"
    }
   ],
   "source": [
    "# How to read csv and excel sheet\n",
    "import pandas as pd\n",
    "pd.read_csv(\"http://insight.dev.schoolwires.com/HelpAssets/C2Assets/C2Files/C2ImportCalEventSample.csv\")"
   ]
  },
  {
   "cell_type": "code",
   "execution_count": 21,
   "metadata": {},
   "outputs": [
    {
     "data": {
      "text/html": [
       "<div>\n",
       "<style scoped>\n",
       "    .dataframe tbody tr th:only-of-type {\n",
       "        vertical-align: middle;\n",
       "    }\n",
       "\n",
       "    .dataframe tbody tr th {\n",
       "        vertical-align: top;\n",
       "    }\n",
       "\n",
       "    .dataframe thead th {\n",
       "        text-align: right;\n",
       "    }\n",
       "</style>\n",
       "<table border=\"1\" class=\"dataframe\">\n",
       "  <thead>\n",
       "    <tr style=\"text-align: right;\">\n",
       "      <th></th>\n",
       "      <th>MC</th>\n",
       "      <th>What is 2+2?</th>\n",
       "      <th>4</th>\n",
       "      <th>correct</th>\n",
       "      <th>3</th>\n",
       "      <th>incorrect</th>\n",
       "      <th>Unnamed: 6</th>\n",
       "      <th>Unnamed: 7</th>\n",
       "      <th>Unnamed: 8</th>\n",
       "    </tr>\n",
       "  </thead>\n",
       "  <tbody>\n",
       "    <tr>\n",
       "      <th>0</th>\n",
       "      <td>MA</td>\n",
       "      <td>What C datatypes are 8 bits? (assume i386)</td>\n",
       "      <td>int</td>\n",
       "      <td>NaN</td>\n",
       "      <td>float</td>\n",
       "      <td>NaN</td>\n",
       "      <td>double</td>\n",
       "      <td>NaN</td>\n",
       "      <td>char</td>\n",
       "    </tr>\n",
       "    <tr>\n",
       "      <th>1</th>\n",
       "      <td>TF</td>\n",
       "      <td>Bagpipes are awesome.</td>\n",
       "      <td>true</td>\n",
       "      <td>NaN</td>\n",
       "      <td>NaN</td>\n",
       "      <td>NaN</td>\n",
       "      <td>NaN</td>\n",
       "      <td>NaN</td>\n",
       "      <td>NaN</td>\n",
       "    </tr>\n",
       "    <tr>\n",
       "      <th>2</th>\n",
       "      <td>ESS</td>\n",
       "      <td>How have the original Henry Hornbostel buildin...</td>\n",
       "      <td>NaN</td>\n",
       "      <td>NaN</td>\n",
       "      <td>NaN</td>\n",
       "      <td>NaN</td>\n",
       "      <td>NaN</td>\n",
       "      <td>NaN</td>\n",
       "      <td>NaN</td>\n",
       "    </tr>\n",
       "    <tr>\n",
       "      <th>3</th>\n",
       "      <td>ORD</td>\n",
       "      <td>Rank the following in their order of operation.</td>\n",
       "      <td>Parentheses</td>\n",
       "      <td>Exponents</td>\n",
       "      <td>Division</td>\n",
       "      <td>Addition</td>\n",
       "      <td>NaN</td>\n",
       "      <td>NaN</td>\n",
       "      <td>NaN</td>\n",
       "    </tr>\n",
       "    <tr>\n",
       "      <th>4</th>\n",
       "      <td>FIB</td>\n",
       "      <td>The student activities fee is</td>\n",
       "      <td>95</td>\n",
       "      <td>dollars for students enrolled in</td>\n",
       "      <td>19</td>\n",
       "      <td>units or more,</td>\n",
       "      <td>NaN</td>\n",
       "      <td>NaN</td>\n",
       "      <td>NaN</td>\n",
       "    </tr>\n",
       "    <tr>\n",
       "      <th>5</th>\n",
       "      <td>MAT</td>\n",
       "      <td>Match the lower-case greek letter with its cap...</td>\n",
       "      <td>λ</td>\n",
       "      <td>Λ</td>\n",
       "      <td>α</td>\n",
       "      <td>γ</td>\n",
       "      <td>Γ</td>\n",
       "      <td>φ</td>\n",
       "      <td>Φ</td>\n",
       "    </tr>\n",
       "  </tbody>\n",
       "</table>\n",
       "</div>"
      ],
      "text/plain": [
       "    MC                                       What is 2+2?            4  \\\n",
       "0   MA         What C datatypes are 8 bits? (assume i386)          int   \n",
       "1   TF                              Bagpipes are awesome.         true   \n",
       "2  ESS  How have the original Henry Hornbostel buildin...          NaN   \n",
       "3  ORD    Rank the following in their order of operation.  Parentheses   \n",
       "4  FIB                      The student activities fee is           95   \n",
       "5  MAT  Match the lower-case greek letter with its cap...            λ   \n",
       "\n",
       "                            correct         3       incorrect Unnamed: 6  \\\n",
       "0                               NaN     float             NaN     double   \n",
       "1                               NaN       NaN             NaN        NaN   \n",
       "2                               NaN       NaN             NaN        NaN   \n",
       "3                         Exponents  Division        Addition        NaN   \n",
       "4  dollars for students enrolled in        19  units or more,        NaN   \n",
       "5                                 Λ         α               γ          Γ   \n",
       "\n",
       "  Unnamed: 7 Unnamed: 8  \n",
       "0        NaN       char  \n",
       "1        NaN        NaN  \n",
       "2        NaN        NaN  \n",
       "3        NaN        NaN  \n",
       "4        NaN        NaN  \n",
       "5          φ          Φ  "
      ]
     },
     "execution_count": 21,
     "metadata": {},
     "output_type": "execute_result"
    }
   ],
   "source": [
    "import pandas as pd\n",
    "pd.read_excel(\"https://www.cmu.edu/blackboard/files/evaluate/tests-example.xls\")"
   ]
  },
  {
   "cell_type": "code",
   "execution_count": 29,
   "metadata": {},
   "outputs": [
    {
     "data": {
      "text/plain": [
       "'Bagpipes are awesome.'"
      ]
     },
     "execution_count": 29,
     "metadata": {},
     "output_type": "execute_result"
    }
   ],
   "source": [
    "import pandas as pd\n",
    "dataset = pd.read_excel(\"https://www.cmu.edu/blackboard/files/evaluate/tests-example.xls\")\n",
    "dataset.iloc[1,1]"
   ]
  },
  {
   "cell_type": "code",
   "execution_count": 31,
   "metadata": {},
   "outputs": [
    {
     "data": {
      "text/html": [
       "<div>\n",
       "<style scoped>\n",
       "    .dataframe tbody tr th:only-of-type {\n",
       "        vertical-align: middle;\n",
       "    }\n",
       "\n",
       "    .dataframe tbody tr th {\n",
       "        vertical-align: top;\n",
       "    }\n",
       "\n",
       "    .dataframe thead th {\n",
       "        text-align: right;\n",
       "    }\n",
       "</style>\n",
       "<table border=\"1\" class=\"dataframe\">\n",
       "  <thead>\n",
       "    <tr style=\"text-align: right;\">\n",
       "      <th></th>\n",
       "      <th>MC</th>\n",
       "      <th>What is 2+2?</th>\n",
       "      <th>4</th>\n",
       "      <th>correct</th>\n",
       "      <th>3</th>\n",
       "      <th>incorrect</th>\n",
       "      <th>Unnamed: 6</th>\n",
       "      <th>Unnamed: 7</th>\n",
       "      <th>Unnamed: 8</th>\n",
       "    </tr>\n",
       "  </thead>\n",
       "  <tbody>\n",
       "    <tr>\n",
       "      <th>1</th>\n",
       "      <td>TF</td>\n",
       "      <td>Bagpipes are awesome.</td>\n",
       "      <td>true</td>\n",
       "      <td>NaN</td>\n",
       "      <td>NaN</td>\n",
       "      <td>NaN</td>\n",
       "      <td>NaN</td>\n",
       "      <td>NaN</td>\n",
       "      <td>NaN</td>\n",
       "    </tr>\n",
       "  </tbody>\n",
       "</table>\n",
       "</div>"
      ],
      "text/plain": [
       "   MC           What is 2+2?     4 correct    3 incorrect Unnamed: 6  \\\n",
       "1  TF  Bagpipes are awesome.  true     NaN  NaN       NaN        NaN   \n",
       "\n",
       "  Unnamed: 7 Unnamed: 8  \n",
       "1        NaN        NaN  "
      ]
     },
     "execution_count": 31,
     "metadata": {},
     "output_type": "execute_result"
    }
   ],
   "source": [
    "dataset.iloc[1:2:2,:]"
   ]
  },
  {
   "cell_type": "code",
   "execution_count": 34,
   "metadata": {},
   "outputs": [
    {
     "data": {
      "text/html": [
       "<div>\n",
       "<style scoped>\n",
       "    .dataframe tbody tr th:only-of-type {\n",
       "        vertical-align: middle;\n",
       "    }\n",
       "\n",
       "    .dataframe tbody tr th {\n",
       "        vertical-align: top;\n",
       "    }\n",
       "\n",
       "    .dataframe thead th {\n",
       "        text-align: right;\n",
       "    }\n",
       "</style>\n",
       "<table border=\"1\" class=\"dataframe\">\n",
       "  <thead>\n",
       "    <tr style=\"text-align: right;\">\n",
       "      <th></th>\n",
       "      <th>Unnamed: 0</th>\n",
       "      <th>Time</th>\n",
       "      <th>demand</th>\n",
       "    </tr>\n",
       "  </thead>\n",
       "  <tbody>\n",
       "    <tr>\n",
       "      <th>0</th>\n",
       "      <td>1</td>\n",
       "      <td>1</td>\n",
       "      <td>8.3</td>\n",
       "    </tr>\n",
       "    <tr>\n",
       "      <th>1</th>\n",
       "      <td>2</td>\n",
       "      <td>2</td>\n",
       "      <td>10.3</td>\n",
       "    </tr>\n",
       "    <tr>\n",
       "      <th>2</th>\n",
       "      <td>3</td>\n",
       "      <td>3</td>\n",
       "      <td>19.0</td>\n",
       "    </tr>\n",
       "    <tr>\n",
       "      <th>3</th>\n",
       "      <td>4</td>\n",
       "      <td>4</td>\n",
       "      <td>16.0</td>\n",
       "    </tr>\n",
       "    <tr>\n",
       "      <th>4</th>\n",
       "      <td>5</td>\n",
       "      <td>5</td>\n",
       "      <td>15.6</td>\n",
       "    </tr>\n",
       "    <tr>\n",
       "      <th>5</th>\n",
       "      <td>6</td>\n",
       "      <td>7</td>\n",
       "      <td>19.8</td>\n",
       "    </tr>\n",
       "  </tbody>\n",
       "</table>\n",
       "</div>"
      ],
      "text/plain": [
       "   Unnamed: 0  Time  demand\n",
       "0           1     1     8.3\n",
       "1           2     2    10.3\n",
       "2           3     3    19.0\n",
       "3           4     4    16.0\n",
       "4           5     5    15.6\n",
       "5           6     7    19.8"
      ]
     },
     "execution_count": 34,
     "metadata": {},
     "output_type": "execute_result"
    }
   ],
   "source": [
    "import pandas as pd\n",
    "pd.read_csv(\"http://www-eio.upc.edu/~pau/cms/rdata/csv/datasets/BOD.csv\")\n",
    "# dataset.iloc[1,1]"
   ]
  },
  {
   "cell_type": "code",
   "execution_count": 38,
   "metadata": {},
   "outputs": [
    {
     "data": {
      "text/html": [
       "<div>\n",
       "<style scoped>\n",
       "    .dataframe tbody tr th:only-of-type {\n",
       "        vertical-align: middle;\n",
       "    }\n",
       "\n",
       "    .dataframe tbody tr th {\n",
       "        vertical-align: top;\n",
       "    }\n",
       "\n",
       "    .dataframe thead th {\n",
       "        text-align: right;\n",
       "    }\n",
       "</style>\n",
       "<table border=\"1\" class=\"dataframe\">\n",
       "  <thead>\n",
       "    <tr style=\"text-align: right;\">\n",
       "      <th></th>\n",
       "      <th>Time</th>\n",
       "      <th>demand</th>\n",
       "    </tr>\n",
       "  </thead>\n",
       "  <tbody>\n",
       "    <tr>\n",
       "      <th>0</th>\n",
       "      <td>1</td>\n",
       "      <td>8.3</td>\n",
       "    </tr>\n",
       "    <tr>\n",
       "      <th>1</th>\n",
       "      <td>2</td>\n",
       "      <td>10.3</td>\n",
       "    </tr>\n",
       "    <tr>\n",
       "      <th>2</th>\n",
       "      <td>3</td>\n",
       "      <td>19.0</td>\n",
       "    </tr>\n",
       "    <tr>\n",
       "      <th>3</th>\n",
       "      <td>4</td>\n",
       "      <td>16.0</td>\n",
       "    </tr>\n",
       "    <tr>\n",
       "      <th>4</th>\n",
       "      <td>5</td>\n",
       "      <td>15.6</td>\n",
       "    </tr>\n",
       "  </tbody>\n",
       "</table>\n",
       "</div>"
      ],
      "text/plain": [
       "   Time  demand\n",
       "0     1     8.3\n",
       "1     2    10.3\n",
       "2     3    19.0\n",
       "3     4    16.0\n",
       "4     5    15.6"
      ]
     },
     "execution_count": 38,
     "metadata": {},
     "output_type": "execute_result"
    }
   ],
   "source": [
    "import pandas as pd\n",
    "pd.read_csv(\"http://www-eio.upc.edu/~pau/cms/rdata/csv/datasets/BOD.csv\")\n",
    "dataset.iloc[0:5,1:]"
   ]
  },
  {
   "cell_type": "code",
   "execution_count": 40,
   "metadata": {},
   "outputs": [
    {
     "data": {
      "text/plain": [
       "Time       3.00\n",
       "demand    13.84\n",
       "dtype: float64"
      ]
     },
     "execution_count": 40,
     "metadata": {},
     "output_type": "execute_result"
    }
   ],
   "source": [
    "import pandas as pd\n",
    "pd.read_csv(\"http://www-eio.upc.edu/~pau/cms/rdata/csv/datasets/BOD.csv\")\n",
    "dataset.iloc[0:5,1:].mean()"
   ]
  },
  {
   "cell_type": "markdown",
   "metadata": {},
   "source": [
    "###### session_3 assignment"
   ]
  },
  {
   "cell_type": "markdown",
   "metadata": {},
   "source": [
    "(Dynamic) Voting_System <br>\n",
    "menu driven<br>\n",
    "functional programming based<br>\n",
    "1. login\n",
    "       a.username\n",
    "       b.password\n",
    "       [check user from json]\n",
    "2. signup\n",
    "       a.name\n",
    "       b.username (unique)\n",
    "       c.password\n",
    "       d.confirm pwd\n",
    "       [store above details in a dictionary file -->signup.json]\n",
    "3. On Success\n",
    "        a. create poll\n",
    "                -->(id >> unique)\n",
    "                -->(poll_name)\n",
    "                -->(poll_option >> [y/n])\n",
    "        b. show all polls(list of all polls)\n",
    "        c. vote\n",
    "                -->(poll_id && poll_name && y/n)\n",
    "        d. show poll(specific poll details using unique id)\n",
    "3. polls result\n",
    "        -->poll_id\n",
    "        -->result\n",
    "        -->name\n",
    "[use functional programming, file handling, exception handling]\n",
    "\n"
   ]
  },
  {
   "cell_type": "markdown",
   "metadata": {},
   "source": [
    "# Project using module and packages"
   ]
  }
 ],
 "metadata": {
  "kernelspec": {
   "display_name": "Python 3",
   "language": "python",
   "name": "python3"
  },
  "language_info": {
   "codemirror_mode": {
    "name": "ipython",
    "version": 3
   },
   "file_extension": ".py",
   "mimetype": "text/x-python",
   "name": "python",
   "nbconvert_exporter": "python",
   "pygments_lexer": "ipython3",
   "version": "3.7.1"
  }
 },
 "nbformat": 4,
 "nbformat_minor": 2
}
